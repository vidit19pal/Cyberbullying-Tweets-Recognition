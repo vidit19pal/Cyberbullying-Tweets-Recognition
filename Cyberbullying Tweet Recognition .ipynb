{
 "cells": [
  {
   "cell_type": "markdown",
   "id": "41ccf62e",
   "metadata": {},
   "source": [
    "# Project"
   ]
  },
  {
   "cell_type": "markdown",
   "id": "79088e03",
   "metadata": {},
   "source": [
    "## 1. Title: \n",
    "Cyberbullying Tweet Recognition"
   ]
  },
  {
   "cell_type": "markdown",
   "id": "12ff8bdb",
   "metadata": {},
   "source": [
    "## 2. Brief on the project:\n",
    "With rise of social media coupled with the Covid-19 pandemic, cyberbullying has reached all time highs. We can combat this by creating\n",
    "models to automatically flag potentially harmful tweets as well as break down the patterns of hatred."
   ]
  },
  {
   "cell_type": "markdown",
   "id": "439ca702",
   "metadata": {},
   "source": [
    "## 3. About the dataset:\n",
    "As social media usage becomes increasingly prevalent in every age group, a vast majority of citizens rely on this essential medium for day-today communication. Social media’s ubiquity means that cyberbullying can effectively impact anyone at any time or anywhere, and the relative\n",
    "anonymity of the internet makes such personal attacks more difficult to stop than traditional bullying.\n",
    "\n",
    "On April 15th, 2020, UNICEF issued a warning in response to the increased risk of cyberbullying during the COVID-19 pandemic due to\n",
    "widespread school closures, increased screen time, and decreased face-to-face social interaction. The statistics of cyberbullying are outright\n",
    "alarming: 36.5% of middle and high school students have felt cyberbullied and 87% have observed cyberbullying, with effects ranging from\n",
    "decreased academic performance to depression to suicidal thoughts.\n"
   ]
  },
  {
   "cell_type": "markdown",
   "id": "5d722743",
   "metadata": {},
   "source": [
    "## 4. Variables:\n",
    "In light of all of this, this dataset contains more than 47000 tweets labelled according to the class of cyberbullying:\n",
    "    \n",
    "    a. Age\n",
    "    b. Ethinicity\n",
    "    c. Gender\n",
    "    d. Religion\n",
    "    e. Other type of cyberbullying\n",
    "    f. Not cyberbullying\n"
   ]
  },
  {
   "cell_type": "markdown",
   "id": "32991a88",
   "metadata": {},
   "source": [
    "## 5. Objective:\n",
    "The objective of this project is to create a model that can automatically flag potentially harmful tweets as well as break down the patterns of\n",
    "hatred."
   ]
  },
  {
   "cell_type": "markdown",
   "id": "6cc2b9c8",
   "metadata": {},
   "source": [
    "## 6. Individual Details:\n",
    "Name: Vidit Kumar Pal, Email: vidit.20.pal@gmail.com, Contact: +91-7985431988"
   ]
  },
  {
   "cell_type": "markdown",
   "id": "e76992c9",
   "metadata": {},
   "source": [
    "### Importing Libraries"
   ]
  },
  {
   "cell_type": "code",
   "execution_count": 1,
   "id": "f3e633c8",
   "metadata": {},
   "outputs": [],
   "source": [
    "import warnings\n",
    "warnings.filterwarnings('ignore')\n",
    "import pandas as pd\n",
    "import numpy as np\n",
    "import re\n",
    "import matplotlib.pyplot as plt\n",
    "%matplotlib inline\n",
    "import seaborn as sns\n",
    "import plotly.express as px\n",
    "import emoji\n",
    "import string\n",
    "import nltk\n",
    "from PIL import Image\n",
    "from collections import Counter\n",
    "from wordcloud import WordCloud, ImageColorGenerator, STOPWORDS\n",
    "from nltk.tokenize import word_tokenize\n",
    "from nltk.corpus import stopwords\n",
    "from nltk.stem.porter import PorterStemmer\n",
    "from nltk.stem.snowball import SnowballStemmer\n",
    "from nltk.stem import WordNetLemmatizer\n",
    "from sklearn.feature_extraction.text import CountVectorizer\n",
    "from sklearn.feature_extraction.text import TfidfVectorizer\n",
    "from sklearn.model_selection import train_test_split\n",
    "from sklearn.model_selection import cross_val_score\n",
    "from sklearn.metrics import accuracy_score, f1_score, confusion_matrix, classification_report\n",
    "from sklearn.model_selection import GridSearchCV\n",
    "from sklearn.model_selection import RandomizedSearchCV\n",
    "from sklearn.linear_model import LogisticRegression\n",
    "from sklearn.ensemble import RandomForestClassifier\n",
    "from sklearn.ensemble import AdaBoostClassifier\n",
    "from sklearn.svm import SVC,LinearSVC\n",
    "from sklearn.naive_bayes import MultinomialNB\n",
    "from sklearn.tree import DecisionTreeClassifier\n",
    "from sklearn.pipeline import Pipeline\n",
    "import pickle"
   ]
  },
  {
   "cell_type": "code",
   "execution_count": 2,
   "id": "acd6c351",
   "metadata": {},
   "outputs": [],
   "source": [
    "data=pd.read_csv('D:\\Data Science\\iit guwahati\\course\\projects made\\cyberbullying tweets\\cyberbullying_tweets.csv')"
   ]
  },
  {
   "cell_type": "code",
   "execution_count": 3,
   "id": "c1715838",
   "metadata": {},
   "outputs": [
    {
     "data": {
      "text/html": [
       "<div>\n",
       "<style scoped>\n",
       "    .dataframe tbody tr th:only-of-type {\n",
       "        vertical-align: middle;\n",
       "    }\n",
       "\n",
       "    .dataframe tbody tr th {\n",
       "        vertical-align: top;\n",
       "    }\n",
       "\n",
       "    .dataframe thead th {\n",
       "        text-align: right;\n",
       "    }\n",
       "</style>\n",
       "<table border=\"1\" class=\"dataframe\">\n",
       "  <thead>\n",
       "    <tr style=\"text-align: right;\">\n",
       "      <th></th>\n",
       "      <th>tweet_text</th>\n",
       "      <th>cyberbullying_type</th>\n",
       "    </tr>\n",
       "  </thead>\n",
       "  <tbody>\n",
       "    <tr>\n",
       "      <th>0</th>\n",
       "      <td>In other words #katandandre, your food was cra...</td>\n",
       "      <td>not_cyberbullying</td>\n",
       "    </tr>\n",
       "    <tr>\n",
       "      <th>1</th>\n",
       "      <td>Why is #aussietv so white? #MKR #theblock #ImA...</td>\n",
       "      <td>not_cyberbullying</td>\n",
       "    </tr>\n",
       "    <tr>\n",
       "      <th>2</th>\n",
       "      <td>@XochitlSuckkks a classy whore? Or more red ve...</td>\n",
       "      <td>not_cyberbullying</td>\n",
       "    </tr>\n",
       "    <tr>\n",
       "      <th>3</th>\n",
       "      <td>@Jason_Gio meh. :P  thanks for the heads up, b...</td>\n",
       "      <td>not_cyberbullying</td>\n",
       "    </tr>\n",
       "    <tr>\n",
       "      <th>4</th>\n",
       "      <td>@RudhoeEnglish This is an ISIS account pretend...</td>\n",
       "      <td>not_cyberbullying</td>\n",
       "    </tr>\n",
       "  </tbody>\n",
       "</table>\n",
       "</div>"
      ],
      "text/plain": [
       "                                          tweet_text cyberbullying_type\n",
       "0  In other words #katandandre, your food was cra...  not_cyberbullying\n",
       "1  Why is #aussietv so white? #MKR #theblock #ImA...  not_cyberbullying\n",
       "2  @XochitlSuckkks a classy whore? Or more red ve...  not_cyberbullying\n",
       "3  @Jason_Gio meh. :P  thanks for the heads up, b...  not_cyberbullying\n",
       "4  @RudhoeEnglish This is an ISIS account pretend...  not_cyberbullying"
      ]
     },
     "execution_count": 3,
     "metadata": {},
     "output_type": "execute_result"
    }
   ],
   "source": [
    "data.head()"
   ]
  },
  {
   "cell_type": "code",
   "execution_count": 4,
   "id": "3630493d",
   "metadata": {},
   "outputs": [
    {
     "data": {
      "text/html": [
       "<div>\n",
       "<style scoped>\n",
       "    .dataframe tbody tr th:only-of-type {\n",
       "        vertical-align: middle;\n",
       "    }\n",
       "\n",
       "    .dataframe tbody tr th {\n",
       "        vertical-align: top;\n",
       "    }\n",
       "\n",
       "    .dataframe thead th {\n",
       "        text-align: right;\n",
       "    }\n",
       "</style>\n",
       "<table border=\"1\" class=\"dataframe\">\n",
       "  <thead>\n",
       "    <tr style=\"text-align: right;\">\n",
       "      <th></th>\n",
       "      <th>tweet_text</th>\n",
       "      <th>cyberbullying_type</th>\n",
       "    </tr>\n",
       "  </thead>\n",
       "  <tbody>\n",
       "    <tr>\n",
       "      <th>47687</th>\n",
       "      <td>Black ppl aren't expected to do anything, depe...</td>\n",
       "      <td>ethnicity</td>\n",
       "    </tr>\n",
       "    <tr>\n",
       "      <th>47688</th>\n",
       "      <td>Turner did not withhold his disappointment. Tu...</td>\n",
       "      <td>ethnicity</td>\n",
       "    </tr>\n",
       "    <tr>\n",
       "      <th>47689</th>\n",
       "      <td>I swear to God. This dumb nigger bitch. I have...</td>\n",
       "      <td>ethnicity</td>\n",
       "    </tr>\n",
       "    <tr>\n",
       "      <th>47690</th>\n",
       "      <td>Yea fuck you RT @therealexel: IF YOURE A NIGGE...</td>\n",
       "      <td>ethnicity</td>\n",
       "    </tr>\n",
       "    <tr>\n",
       "      <th>47691</th>\n",
       "      <td>Bro. U gotta chill RT @CHILLShrammy: Dog FUCK ...</td>\n",
       "      <td>ethnicity</td>\n",
       "    </tr>\n",
       "  </tbody>\n",
       "</table>\n",
       "</div>"
      ],
      "text/plain": [
       "                                              tweet_text cyberbullying_type\n",
       "47687  Black ppl aren't expected to do anything, depe...          ethnicity\n",
       "47688  Turner did not withhold his disappointment. Tu...          ethnicity\n",
       "47689  I swear to God. This dumb nigger bitch. I have...          ethnicity\n",
       "47690  Yea fuck you RT @therealexel: IF YOURE A NIGGE...          ethnicity\n",
       "47691  Bro. U gotta chill RT @CHILLShrammy: Dog FUCK ...          ethnicity"
      ]
     },
     "execution_count": 4,
     "metadata": {},
     "output_type": "execute_result"
    }
   ],
   "source": [
    "data.tail()"
   ]
  },
  {
   "cell_type": "code",
   "execution_count": 5,
   "id": "d209ff40",
   "metadata": {},
   "outputs": [
    {
     "name": "stdout",
     "output_type": "stream",
     "text": [
      "<class 'pandas.core.frame.DataFrame'>\n",
      "RangeIndex: 47692 entries, 0 to 47691\n",
      "Data columns (total 2 columns):\n",
      " #   Column              Non-Null Count  Dtype \n",
      "---  ------              --------------  ----- \n",
      " 0   tweet_text          47692 non-null  object\n",
      " 1   cyberbullying_type  47692 non-null  object\n",
      "dtypes: object(2)\n",
      "memory usage: 745.3+ KB\n"
     ]
    }
   ],
   "source": [
    "data.info()"
   ]
  },
  {
   "cell_type": "code",
   "execution_count": 6,
   "id": "65ff0b2d",
   "metadata": {},
   "outputs": [
    {
     "data": {
      "text/plain": [
       "tweet_text            0\n",
       "cyberbullying_type    0\n",
       "dtype: int64"
      ]
     },
     "execution_count": 6,
     "metadata": {},
     "output_type": "execute_result"
    }
   ],
   "source": [
    "data.isnull().sum()"
   ]
  },
  {
   "cell_type": "code",
   "execution_count": 7,
   "id": "56d36184",
   "metadata": {},
   "outputs": [
    {
     "data": {
      "text/plain": [
       "religion               7998\n",
       "age                    7992\n",
       "gender                 7973\n",
       "ethnicity              7961\n",
       "not_cyberbullying      7945\n",
       "other_cyberbullying    7823\n",
       "Name: cyberbullying_type, dtype: int64"
      ]
     },
     "execution_count": 7,
     "metadata": {},
     "output_type": "execute_result"
    }
   ],
   "source": [
    "data['cyberbullying_type'].value_counts()"
   ]
  },
  {
   "cell_type": "code",
   "execution_count": 8,
   "id": "5a687d64",
   "metadata": {},
   "outputs": [],
   "source": [
    "data=data.rename(columns={'tweet_text':'text','cyberbullying_type':'sentiment'})"
   ]
  },
  {
   "cell_type": "code",
   "execution_count": 9,
   "id": "6bc1ab06",
   "metadata": {},
   "outputs": [
    {
     "data": {
      "text/html": [
       "<div>\n",
       "<style scoped>\n",
       "    .dataframe tbody tr th:only-of-type {\n",
       "        vertical-align: middle;\n",
       "    }\n",
       "\n",
       "    .dataframe tbody tr th {\n",
       "        vertical-align: top;\n",
       "    }\n",
       "\n",
       "    .dataframe thead th {\n",
       "        text-align: right;\n",
       "    }\n",
       "</style>\n",
       "<table border=\"1\" class=\"dataframe\">\n",
       "  <thead>\n",
       "    <tr style=\"text-align: right;\">\n",
       "      <th></th>\n",
       "      <th>text</th>\n",
       "      <th>sentiment</th>\n",
       "    </tr>\n",
       "  </thead>\n",
       "  <tbody>\n",
       "    <tr>\n",
       "      <th>0</th>\n",
       "      <td>In other words #katandandre, your food was cra...</td>\n",
       "      <td>not_cyberbullying</td>\n",
       "    </tr>\n",
       "    <tr>\n",
       "      <th>1</th>\n",
       "      <td>Why is #aussietv so white? #MKR #theblock #ImA...</td>\n",
       "      <td>not_cyberbullying</td>\n",
       "    </tr>\n",
       "    <tr>\n",
       "      <th>2</th>\n",
       "      <td>@XochitlSuckkks a classy whore? Or more red ve...</td>\n",
       "      <td>not_cyberbullying</td>\n",
       "    </tr>\n",
       "    <tr>\n",
       "      <th>3</th>\n",
       "      <td>@Jason_Gio meh. :P  thanks for the heads up, b...</td>\n",
       "      <td>not_cyberbullying</td>\n",
       "    </tr>\n",
       "    <tr>\n",
       "      <th>4</th>\n",
       "      <td>@RudhoeEnglish This is an ISIS account pretend...</td>\n",
       "      <td>not_cyberbullying</td>\n",
       "    </tr>\n",
       "  </tbody>\n",
       "</table>\n",
       "</div>"
      ],
      "text/plain": [
       "                                                text          sentiment\n",
       "0  In other words #katandandre, your food was cra...  not_cyberbullying\n",
       "1  Why is #aussietv so white? #MKR #theblock #ImA...  not_cyberbullying\n",
       "2  @XochitlSuckkks a classy whore? Or more red ve...  not_cyberbullying\n",
       "3  @Jason_Gio meh. :P  thanks for the heads up, b...  not_cyberbullying\n",
       "4  @RudhoeEnglish This is an ISIS account pretend...  not_cyberbullying"
      ]
     },
     "execution_count": 9,
     "metadata": {},
     "output_type": "execute_result"
    }
   ],
   "source": [
    "data.head()"
   ]
  },
  {
   "cell_type": "code",
   "execution_count": 10,
   "id": "6673f603",
   "metadata": {},
   "outputs": [],
   "source": [
    "data['sentiment_encoded']=data['sentiment'].replace({'religion':1,'age':2,'ethnicity':3,'gender':4,'other_cyberbullying':5,'not_cyberbullying':6})"
   ]
  },
  {
   "cell_type": "code",
   "execution_count": 11,
   "id": "f46e85df",
   "metadata": {},
   "outputs": [
    {
     "data": {
      "text/html": [
       "<div>\n",
       "<style scoped>\n",
       "    .dataframe tbody tr th:only-of-type {\n",
       "        vertical-align: middle;\n",
       "    }\n",
       "\n",
       "    .dataframe tbody tr th {\n",
       "        vertical-align: top;\n",
       "    }\n",
       "\n",
       "    .dataframe thead th {\n",
       "        text-align: right;\n",
       "    }\n",
       "</style>\n",
       "<table border=\"1\" class=\"dataframe\">\n",
       "  <thead>\n",
       "    <tr style=\"text-align: right;\">\n",
       "      <th></th>\n",
       "      <th>text</th>\n",
       "      <th>sentiment</th>\n",
       "      <th>sentiment_encoded</th>\n",
       "    </tr>\n",
       "  </thead>\n",
       "  <tbody>\n",
       "    <tr>\n",
       "      <th>0</th>\n",
       "      <td>In other words #katandandre, your food was cra...</td>\n",
       "      <td>not_cyberbullying</td>\n",
       "      <td>6</td>\n",
       "    </tr>\n",
       "    <tr>\n",
       "      <th>1</th>\n",
       "      <td>Why is #aussietv so white? #MKR #theblock #ImA...</td>\n",
       "      <td>not_cyberbullying</td>\n",
       "      <td>6</td>\n",
       "    </tr>\n",
       "    <tr>\n",
       "      <th>2</th>\n",
       "      <td>@XochitlSuckkks a classy whore? Or more red ve...</td>\n",
       "      <td>not_cyberbullying</td>\n",
       "      <td>6</td>\n",
       "    </tr>\n",
       "    <tr>\n",
       "      <th>3</th>\n",
       "      <td>@Jason_Gio meh. :P  thanks for the heads up, b...</td>\n",
       "      <td>not_cyberbullying</td>\n",
       "      <td>6</td>\n",
       "    </tr>\n",
       "    <tr>\n",
       "      <th>4</th>\n",
       "      <td>@RudhoeEnglish This is an ISIS account pretend...</td>\n",
       "      <td>not_cyberbullying</td>\n",
       "      <td>6</td>\n",
       "    </tr>\n",
       "  </tbody>\n",
       "</table>\n",
       "</div>"
      ],
      "text/plain": [
       "                                                text          sentiment  \\\n",
       "0  In other words #katandandre, your food was cra...  not_cyberbullying   \n",
       "1  Why is #aussietv so white? #MKR #theblock #ImA...  not_cyberbullying   \n",
       "2  @XochitlSuckkks a classy whore? Or more red ve...  not_cyberbullying   \n",
       "3  @Jason_Gio meh. :P  thanks for the heads up, b...  not_cyberbullying   \n",
       "4  @RudhoeEnglish This is an ISIS account pretend...  not_cyberbullying   \n",
       "\n",
       "   sentiment_encoded  \n",
       "0                  6  \n",
       "1                  6  \n",
       "2                  6  \n",
       "3                  6  \n",
       "4                  6  "
      ]
     },
     "execution_count": 11,
     "metadata": {},
     "output_type": "execute_result"
    }
   ],
   "source": [
    "data.head()"
   ]
  },
  {
   "cell_type": "code",
   "execution_count": 12,
   "id": "1511a354",
   "metadata": {},
   "outputs": [],
   "source": [
    "stop_words=set(stopwords.words('english'))"
   ]
  },
  {
   "cell_type": "markdown",
   "id": "e111d9c5",
   "metadata": {},
   "source": [
    "## Preprocessing of Text"
   ]
  },
  {
   "cell_type": "markdown",
   "id": "15306490",
   "metadata": {},
   "source": [
    "### Function to Remove Emojis"
   ]
  },
  {
   "cell_type": "code",
   "execution_count": 13,
   "id": "9bb51d2d",
   "metadata": {},
   "outputs": [],
   "source": [
    "def strip_emoji(text):\n",
    "    return emoji.replace_emoji(text,replace=\"\")"
   ]
  },
  {
   "cell_type": "markdown",
   "id": "533ff1d0",
   "metadata": {},
   "source": [
    "### Function to Convert text to lowercase,remove (/r,/n characters), URLs, non-utf characters, Numbers, punctutations, stopwords"
   ]
  },
  {
   "cell_type": "code",
   "execution_count": 14,
   "id": "f5fa63ca",
   "metadata": {},
   "outputs": [],
   "source": [
    "def strip_all_entities(text):\n",
    "    text = text.replace('\\r', '').replace('\\n', ' ').lower()\n",
    "    text = re.sub(r\"(?:\\@|https?\\://)\\S+\", \"\", text)\n",
    "    text = re.sub(r'[^\\x00-\\x7f]',r'', text)\n",
    "    text = re.sub(r'(.)1+', r'1', text)\n",
    "    text = re.sub('[0-9]+', '', text)\n",
    "    stopchars= string.punctuation\n",
    "    table = str.maketrans('', '', stopchars)\n",
    "    text = text.translate(table)\n",
    "    text = [word for word in text.split() if word not in stop_words]\n",
    "    text = ' '.join(text)\n",
    "    return text"
   ]
  },
  {
   "cell_type": "markdown",
   "id": "4f1a528f",
   "metadata": {},
   "source": [
    "### Function to remove contractions"
   ]
  },
  {
   "cell_type": "code",
   "execution_count": 15,
   "id": "9cedfbfd",
   "metadata": {},
   "outputs": [],
   "source": [
    "def decontract(text):\n",
    "    text = re.sub(r\"can\\'t\", \"can not\", text)\n",
    "    text = re.sub(r\"n\\'t\", \" not\", text)\n",
    "    text = re.sub(r\"\\'re\", \" are\", text)\n",
    "    text = re.sub(r\"\\'s\", \" is\", text)\n",
    "    text = re.sub(r\"\\'d\", \" would\", text)\n",
    "    text = re.sub(r\"\\'ll\", \" will\", text)\n",
    "    text = re.sub(r\"\\'t\", \" not\", text)\n",
    "    text = re.sub(r\"\\'ve\", \" have\", text)\n",
    "    text = re.sub(r\"\\'m\", \" am\", text)\n",
    "    return text"
   ]
  },
  {
   "cell_type": "markdown",
   "id": "55ee5e8e",
   "metadata": {},
   "source": [
    "### Function to Clean Hashtags"
   ]
  },
  {
   "cell_type": "code",
   "execution_count": 16,
   "id": "1200352b",
   "metadata": {},
   "outputs": [],
   "source": [
    "def clean_hashtags(tweet):\n",
    "    new_tweet = \" \".join(word.strip() for word in re.split('#(?!(?:hashtag)\\b)[\\w-]+(?=(?:\\s+#[\\w-]+)*\\s*$)', tweet))\n",
    "    new_tweet2 = \" \".join(word.strip() for word in re.split('#|_', new_tweet))\n",
    "    return new_tweet2"
   ]
  },
  {
   "cell_type": "markdown",
   "id": "0d0d3814",
   "metadata": {},
   "source": [
    "### Function to FIlter Special Characters such as $, &"
   ]
  },
  {
   "cell_type": "code",
   "execution_count": 17,
   "id": "a829a8bc",
   "metadata": {},
   "outputs": [],
   "source": [
    "def filter_chars(a):\n",
    "    sent = []\n",
    "    for word in a.split(' '):\n",
    "        if ('$' in word) | ('&' in word):\n",
    "            sent.append('')\n",
    "        else:\n",
    "            sent.append(word)\n",
    "    return ' '.join(sent)"
   ]
  },
  {
   "cell_type": "markdown",
   "id": "a71d62cc",
   "metadata": {},
   "source": [
    "### Function to remove multiple sequence spaces"
   ]
  },
  {
   "cell_type": "code",
   "execution_count": 18,
   "id": "6075e075",
   "metadata": {},
   "outputs": [],
   "source": [
    "def remove_mult_spaces(text):\n",
    "    return re.sub(\"\\s\\s+\",\" \",text)"
   ]
  },
  {
   "cell_type": "markdown",
   "id": "0ea0f25b",
   "metadata": {},
   "source": [
    "### Function to apply stemming to words"
   ]
  },
  {
   "cell_type": "code",
   "execution_count": 19,
   "id": "f8aee56e",
   "metadata": {},
   "outputs": [],
   "source": [
    "def stemmer(text):\n",
    "    tokenized = nltk.word_tokenize(text)\n",
    "    ps = PorterStemmer()\n",
    "    return ' '.join([ps.stem(words) for words in tokenized])"
   ]
  },
  {
   "cell_type": "markdown",
   "id": "ef44f1d2",
   "metadata": {},
   "source": [
    "### Function to apply lemmatization to words"
   ]
  },
  {
   "cell_type": "code",
   "execution_count": 20,
   "id": "1c9e4a98",
   "metadata": {},
   "outputs": [],
   "source": [
    "def lemmatize(text):\n",
    "    tokenized = nltk.word_tokenize(text)\n",
    "    lm = WordNetLemmatizer()\n",
    "    return ' '.join([lm.lemmatize(words) for words in tokenized])\n"
   ]
  },
  {
   "cell_type": "markdown",
   "id": "718dc5bd",
   "metadata": {},
   "source": [
    "### Function to Preprocess the text by applying all above functions"
   ]
  },
  {
   "cell_type": "code",
   "execution_count": 21,
   "id": "9d0753f6",
   "metadata": {},
   "outputs": [],
   "source": [
    "def preprocess(text):\n",
    "    text = strip_emoji(text)\n",
    "    text = decontract(text)\n",
    "    text = strip_all_entities(text)\n",
    "    text = clean_hashtags(text)\n",
    "    text = filter_chars(text)\n",
    "    text = remove_mult_spaces(text)\n",
    "    text = stemmer(text)\n",
    "    text = lemmatize(text)\n",
    "    return text"
   ]
  },
  {
   "cell_type": "code",
   "execution_count": 22,
   "id": "4f3299bb",
   "metadata": {},
   "outputs": [
    {
     "name": "stderr",
     "output_type": "stream",
     "text": [
      "[nltk_data] Downloading package omw-1.4 to\n",
      "[nltk_data]     C:\\Users\\Vidit\\AppData\\Roaming\\nltk_data...\n",
      "[nltk_data]   Package omw-1.4 is already up-to-date!\n"
     ]
    },
    {
     "data": {
      "text/plain": [
       "True"
      ]
     },
     "execution_count": 22,
     "metadata": {},
     "output_type": "execute_result"
    }
   ],
   "source": [
    "import nltk\n",
    "nltk.download('omw-1.4')"
   ]
  },
  {
   "cell_type": "code",
   "execution_count": 23,
   "id": "7172144e",
   "metadata": {},
   "outputs": [
    {
     "data": {
      "text/html": [
       "<div>\n",
       "<style scoped>\n",
       "    .dataframe tbody tr th:only-of-type {\n",
       "        vertical-align: middle;\n",
       "    }\n",
       "\n",
       "    .dataframe tbody tr th {\n",
       "        vertical-align: top;\n",
       "    }\n",
       "\n",
       "    .dataframe thead th {\n",
       "        text-align: right;\n",
       "    }\n",
       "</style>\n",
       "<table border=\"1\" class=\"dataframe\">\n",
       "  <thead>\n",
       "    <tr style=\"text-align: right;\">\n",
       "      <th></th>\n",
       "      <th>text</th>\n",
       "      <th>sentiment</th>\n",
       "      <th>sentiment_encoded</th>\n",
       "      <th>cleaned_text</th>\n",
       "    </tr>\n",
       "  </thead>\n",
       "  <tbody>\n",
       "    <tr>\n",
       "      <th>0</th>\n",
       "      <td>In other words #katandandre, your food was cra...</td>\n",
       "      <td>not_cyberbullying</td>\n",
       "      <td>6</td>\n",
       "      <td>word katandandr food crapilici mkr</td>\n",
       "    </tr>\n",
       "    <tr>\n",
       "      <th>1</th>\n",
       "      <td>Why is #aussietv so white? #MKR #theblock #ImA...</td>\n",
       "      <td>not_cyberbullying</td>\n",
       "      <td>6</td>\n",
       "      <td>aussietv white mkr theblock imacelebrityau tod...</td>\n",
       "    </tr>\n",
       "    <tr>\n",
       "      <th>2</th>\n",
       "      <td>@XochitlSuckkks a classy whore? Or more red ve...</td>\n",
       "      <td>not_cyberbullying</td>\n",
       "      <td>6</td>\n",
       "      <td>classi whore red velvet cupcak</td>\n",
       "    </tr>\n",
       "    <tr>\n",
       "      <th>3</th>\n",
       "      <td>@Jason_Gio meh. :P  thanks for the heads up, b...</td>\n",
       "      <td>not_cyberbullying</td>\n",
       "      <td>6</td>\n",
       "      <td>meh p thank head concern anoth angri dude twitter</td>\n",
       "    </tr>\n",
       "    <tr>\n",
       "      <th>4</th>\n",
       "      <td>@RudhoeEnglish This is an ISIS account pretend...</td>\n",
       "      <td>not_cyberbullying</td>\n",
       "      <td>6</td>\n",
       "      <td>isi account pretend kurdish account like islam...</td>\n",
       "    </tr>\n",
       "  </tbody>\n",
       "</table>\n",
       "</div>"
      ],
      "text/plain": [
       "                                                text          sentiment  \\\n",
       "0  In other words #katandandre, your food was cra...  not_cyberbullying   \n",
       "1  Why is #aussietv so white? #MKR #theblock #ImA...  not_cyberbullying   \n",
       "2  @XochitlSuckkks a classy whore? Or more red ve...  not_cyberbullying   \n",
       "3  @Jason_Gio meh. :P  thanks for the heads up, b...  not_cyberbullying   \n",
       "4  @RudhoeEnglish This is an ISIS account pretend...  not_cyberbullying   \n",
       "\n",
       "   sentiment_encoded                                       cleaned_text  \n",
       "0                  6                 word katandandr food crapilici mkr  \n",
       "1                  6  aussietv white mkr theblock imacelebrityau tod...  \n",
       "2                  6                     classi whore red velvet cupcak  \n",
       "3                  6  meh p thank head concern anoth angri dude twitter  \n",
       "4                  6  isi account pretend kurdish account like islam...  "
      ]
     },
     "execution_count": 23,
     "metadata": {},
     "output_type": "execute_result"
    }
   ],
   "source": [
    "data['cleaned_text']=data['text'].apply(preprocess)\n",
    "data.head()"
   ]
  },
  {
   "cell_type": "markdown",
   "id": "4f9ecc2f",
   "metadata": {},
   "source": [
    "### Cleaned text added"
   ]
  },
  {
   "cell_type": "markdown",
   "id": "2c73ffcc",
   "metadata": {},
   "source": [
    "### Dealing with Duplicates"
   ]
  },
  {
   "cell_type": "code",
   "execution_count": 24,
   "id": "6f70a939",
   "metadata": {},
   "outputs": [
    {
     "data": {
      "text/plain": [
       "3041"
      ]
     },
     "execution_count": 24,
     "metadata": {},
     "output_type": "execute_result"
    }
   ],
   "source": [
    "data[\"cleaned_text\"].duplicated().sum()"
   ]
  },
  {
   "cell_type": "code",
   "execution_count": 25,
   "id": "a9815d5b",
   "metadata": {},
   "outputs": [],
   "source": [
    "data.drop_duplicates(\"cleaned_text\", inplace=True)"
   ]
  },
  {
   "cell_type": "markdown",
   "id": "c24b3386",
   "metadata": {},
   "source": [
    "### Duplicates removed"
   ]
  },
  {
   "cell_type": "markdown",
   "id": "45960f94",
   "metadata": {},
   "source": [
    "### Tokenization"
   ]
  },
  {
   "cell_type": "code",
   "execution_count": 26,
   "id": "61dbfa03",
   "metadata": {},
   "outputs": [
    {
     "data": {
      "text/html": [
       "<div>\n",
       "<style scoped>\n",
       "    .dataframe tbody tr th:only-of-type {\n",
       "        vertical-align: middle;\n",
       "    }\n",
       "\n",
       "    .dataframe tbody tr th {\n",
       "        vertical-align: top;\n",
       "    }\n",
       "\n",
       "    .dataframe thead th {\n",
       "        text-align: right;\n",
       "    }\n",
       "</style>\n",
       "<table border=\"1\" class=\"dataframe\">\n",
       "  <thead>\n",
       "    <tr style=\"text-align: right;\">\n",
       "      <th></th>\n",
       "      <th>text</th>\n",
       "      <th>sentiment</th>\n",
       "      <th>sentiment_encoded</th>\n",
       "      <th>cleaned_text</th>\n",
       "      <th>tweet_list</th>\n",
       "    </tr>\n",
       "  </thead>\n",
       "  <tbody>\n",
       "    <tr>\n",
       "      <th>0</th>\n",
       "      <td>In other words #katandandre, your food was cra...</td>\n",
       "      <td>not_cyberbullying</td>\n",
       "      <td>6</td>\n",
       "      <td>word katandandr food crapilici mkr</td>\n",
       "      <td>[word, katandandr, food, crapilici, mkr]</td>\n",
       "    </tr>\n",
       "    <tr>\n",
       "      <th>1</th>\n",
       "      <td>Why is #aussietv so white? #MKR #theblock #ImA...</td>\n",
       "      <td>not_cyberbullying</td>\n",
       "      <td>6</td>\n",
       "      <td>aussietv white mkr theblock imacelebrityau tod...</td>\n",
       "      <td>[aussietv, white, mkr, theblock, imacelebritya...</td>\n",
       "    </tr>\n",
       "    <tr>\n",
       "      <th>2</th>\n",
       "      <td>@XochitlSuckkks a classy whore? Or more red ve...</td>\n",
       "      <td>not_cyberbullying</td>\n",
       "      <td>6</td>\n",
       "      <td>classi whore red velvet cupcak</td>\n",
       "      <td>[classi, whore, red, velvet, cupcak]</td>\n",
       "    </tr>\n",
       "    <tr>\n",
       "      <th>3</th>\n",
       "      <td>@Jason_Gio meh. :P  thanks for the heads up, b...</td>\n",
       "      <td>not_cyberbullying</td>\n",
       "      <td>6</td>\n",
       "      <td>meh p thank head concern anoth angri dude twitter</td>\n",
       "      <td>[meh, p, thank, head, concern, anoth, angri, d...</td>\n",
       "    </tr>\n",
       "    <tr>\n",
       "      <th>4</th>\n",
       "      <td>@RudhoeEnglish This is an ISIS account pretend...</td>\n",
       "      <td>not_cyberbullying</td>\n",
       "      <td>6</td>\n",
       "      <td>isi account pretend kurdish account like islam...</td>\n",
       "      <td>[isi, account, pretend, kurdish, account, like...</td>\n",
       "    </tr>\n",
       "  </tbody>\n",
       "</table>\n",
       "</div>"
      ],
      "text/plain": [
       "                                                text          sentiment  \\\n",
       "0  In other words #katandandre, your food was cra...  not_cyberbullying   \n",
       "1  Why is #aussietv so white? #MKR #theblock #ImA...  not_cyberbullying   \n",
       "2  @XochitlSuckkks a classy whore? Or more red ve...  not_cyberbullying   \n",
       "3  @Jason_Gio meh. :P  thanks for the heads up, b...  not_cyberbullying   \n",
       "4  @RudhoeEnglish This is an ISIS account pretend...  not_cyberbullying   \n",
       "\n",
       "   sentiment_encoded                                       cleaned_text  \\\n",
       "0                  6                 word katandandr food crapilici mkr   \n",
       "1                  6  aussietv white mkr theblock imacelebrityau tod...   \n",
       "2                  6                     classi whore red velvet cupcak   \n",
       "3                  6  meh p thank head concern anoth angri dude twitter   \n",
       "4                  6  isi account pretend kurdish account like islam...   \n",
       "\n",
       "                                          tweet_list  \n",
       "0           [word, katandandr, food, crapilici, mkr]  \n",
       "1  [aussietv, white, mkr, theblock, imacelebritya...  \n",
       "2               [classi, whore, red, velvet, cupcak]  \n",
       "3  [meh, p, thank, head, concern, anoth, angri, d...  \n",
       "4  [isi, account, pretend, kurdish, account, like...  "
      ]
     },
     "execution_count": 26,
     "metadata": {},
     "output_type": "execute_result"
    }
   ],
   "source": [
    "data['tweet_list'] = data['cleaned_text'].apply(word_tokenize)\n",
    "data.head()"
   ]
  },
  {
   "cell_type": "markdown",
   "id": "6a5955dc",
   "metadata": {},
   "source": [
    "### Checking length of various tweet texts"
   ]
  },
  {
   "cell_type": "code",
   "execution_count": 27,
   "id": "040838ce",
   "metadata": {},
   "outputs": [],
   "source": [
    "text_len = []\n",
    "for text in data.tweet_list:\n",
    "    tweet_len = len(text)\n",
    "    text_len.append(tweet_len)\n",
    "data['text_len'] = text_len"
   ]
  },
  {
   "cell_type": "code",
   "execution_count": 28,
   "id": "1d50f9cc",
   "metadata": {},
   "outputs": [
    {
     "data": {
      "image/png": "[encoded data removed]",
      "text/plain": [
       "<Figure size 1080x576 with 1 Axes>"
      ]
     },
     "metadata": {
      "needs_background": "light"
     },
     "output_type": "display_data"
    }
   ],
   "source": [
    "plt.figure(figsize=(15,8))\n",
    "ax = sns.countplot(x='text_len', data=data, palette='mako')\n",
    "plt.title('Count of words in tweets', fontsize=20)\n",
    "plt.yticks([])\n",
    "ax.bar_label(ax.containers[0])\n",
    "plt.ylabel('count')\n",
    "plt.xlabel('')\n",
    "plt.show()"
   ]
  },
  {
   "cell_type": "markdown",
   "id": "115992e1",
   "metadata": {},
   "source": [
    "### Removing text without words"
   ]
  },
  {
   "cell_type": "code",
   "execution_count": 29,
   "id": "d72bdddd",
   "metadata": {},
   "outputs": [],
   "source": [
    "data = data[data['text_len']!=0]"
   ]
  },
  {
   "cell_type": "code",
   "execution_count": 30,
   "id": "74cd1e6b",
   "metadata": {},
   "outputs": [
    {
     "data": {
      "text/plain": [
       "(44650, 6)"
      ]
     },
     "execution_count": 30,
     "metadata": {},
     "output_type": "execute_result"
    }
   ],
   "source": [
    "data.shape"
   ]
  },
  {
   "cell_type": "markdown",
   "id": "350d4848",
   "metadata": {},
   "source": [
    "### Splitting data based on sentiment for Data Exploration"
   ]
  },
  {
   "cell_type": "code",
   "execution_count": 31,
   "id": "2ab14b22",
   "metadata": {},
   "outputs": [],
   "source": [
    "not_cyberbullying_type = data[data['sentiment']=='not_cyberbullying']\n",
    "gender_type = data[data['sentiment']=='gender']\n",
    "religion_type = data[data['sentiment']=='religion']\n",
    "other_cyberbullying_type = data[data['sentiment']=='other_cyberbullying']\n",
    "age_type = data[data['sentiment']=='age']\n",
    "ethnicity_type = data[data['sentiment']=='ethnicity']"
   ]
  },
  {
   "cell_type": "markdown",
   "id": "a283ed4b",
   "metadata": {},
   "source": [
    "### EDA Part"
   ]
  },
  {
   "cell_type": "markdown",
   "id": "cf18b09d",
   "metadata": {},
   "source": [
    "### Gender Based Cyberbullying"
   ]
  },
  {
   "cell_type": "code",
   "execution_count": 32,
   "id": "f42a2e75",
   "metadata": {},
   "outputs": [
    {
     "data": {
      "text/html": [
       "<style type=\"text/css\">\n",
       "#T_86b42_row0_col1 {\n",
       "  background-color: #00441b;\n",
       "  color: #f1f1f1;\n",
       "}\n",
       "#T_86b42_row1_col1 {\n",
       "  background-color: #1e8741;\n",
       "  color: #f1f1f1;\n",
       "}\n",
       "#T_86b42_row2_col1 {\n",
       "  background-color: #2a924a;\n",
       "  color: #f1f1f1;\n",
       "}\n",
       "#T_86b42_row3_col1 {\n",
       "  background-color: #d3eecd;\n",
       "  color: #000000;\n",
       "}\n",
       "#T_86b42_row4_col1 {\n",
       "  background-color: #d9f0d3;\n",
       "  color: #000000;\n",
       "}\n",
       "#T_86b42_row5_col1 {\n",
       "  background-color: #dbf1d6;\n",
       "  color: #000000;\n",
       "}\n",
       "#T_86b42_row6_col1 {\n",
       "  background-color: #ddf2d8;\n",
       "  color: #000000;\n",
       "}\n",
       "#T_86b42_row7_col1 {\n",
       "  background-color: #dff3da;\n",
       "  color: #000000;\n",
       "}\n",
       "#T_86b42_row8_col1 {\n",
       "  background-color: #e1f3dc;\n",
       "  color: #000000;\n",
       "}\n",
       "#T_86b42_row9_col1, #T_86b42_row10_col1 {\n",
       "  background-color: #e7f6e2;\n",
       "  color: #000000;\n",
       "}\n",
       "#T_86b42_row11_col1 {\n",
       "  background-color: #e8f6e3;\n",
       "  color: #000000;\n",
       "}\n",
       "#T_86b42_row12_col1, #T_86b42_row13_col1 {\n",
       "  background-color: #f1faee;\n",
       "  color: #000000;\n",
       "}\n",
       "#T_86b42_row14_col1 {\n",
       "  background-color: #f2faef;\n",
       "  color: #000000;\n",
       "}\n",
       "#T_86b42_row15_col1, #T_86b42_row16_col1 {\n",
       "  background-color: #f2faf0;\n",
       "  color: #000000;\n",
       "}\n",
       "#T_86b42_row17_col1 {\n",
       "  background-color: #f4fbf1;\n",
       "  color: #000000;\n",
       "}\n",
       "#T_86b42_row18_col1 {\n",
       "  background-color: #f4fbf2;\n",
       "  color: #000000;\n",
       "}\n",
       "#T_86b42_row19_col1 {\n",
       "  background-color: #f7fcf5;\n",
       "  color: #000000;\n",
       "}\n",
       "</style>\n",
       "<table id=\"T_86b42\">\n",
       "  <thead>\n",
       "    <tr>\n",
       "      <th class=\"blank level0\" >&nbsp;</th>\n",
       "      <th id=\"T_86b42_level0_col0\" class=\"col_heading level0 col0\" >Top Words</th>\n",
       "      <th id=\"T_86b42_level0_col1\" class=\"col_heading level0 col1\" >Count</th>\n",
       "    </tr>\n",
       "  </thead>\n",
       "  <tbody>\n",
       "    <tr>\n",
       "      <th id=\"T_86b42_level0_row0\" class=\"row_heading level0 row0\" >0</th>\n",
       "      <td id=\"T_86b42_row0_col0\" class=\"data row0 col0\" >joke</td>\n",
       "      <td id=\"T_86b42_row0_col1\" class=\"data row0 col1\" >5179</td>\n",
       "    </tr>\n",
       "    <tr>\n",
       "      <th id=\"T_86b42_level0_row1\" class=\"row_heading level0 row1\" >1</th>\n",
       "      <td id=\"T_86b42_row1_col0\" class=\"data row1 col0\" >rape</td>\n",
       "      <td id=\"T_86b42_row1_col1\" class=\"data row1 col1\" >4070</td>\n",
       "    </tr>\n",
       "    <tr>\n",
       "      <th id=\"T_86b42_level0_row2\" class=\"row_heading level0 row2\" >2</th>\n",
       "      <td id=\"T_86b42_row2_col0\" class=\"data row2 col0\" >gay</td>\n",
       "      <td id=\"T_86b42_row2_col1\" class=\"data row2 col1\" >3852</td>\n",
       "    </tr>\n",
       "    <tr>\n",
       "      <th id=\"T_86b42_level0_row3\" class=\"row_heading level0 row3\" >3</th>\n",
       "      <td id=\"T_86b42_row3_col0\" class=\"data row3 col0\" >call</td>\n",
       "      <td id=\"T_86b42_row3_col1\" class=\"data row3 col1\" >1401</td>\n",
       "    </tr>\n",
       "    <tr>\n",
       "      <th id=\"T_86b42_level0_row4\" class=\"row_heading level0 row4\" >4</th>\n",
       "      <td id=\"T_86b42_row4_col0\" class=\"data row4 col0\" >make</td>\n",
       "      <td id=\"T_86b42_row4_col1\" class=\"data row4 col1\" >1283</td>\n",
       "    </tr>\n",
       "    <tr>\n",
       "      <th id=\"T_86b42_level0_row5\" class=\"row_heading level0 row5\" >5</th>\n",
       "      <td id=\"T_86b42_row5_col0\" class=\"data row5 col0\" >rt</td>\n",
       "      <td id=\"T_86b42_row5_col1\" class=\"data row5 col1\" >1221</td>\n",
       "    </tr>\n",
       "    <tr>\n",
       "      <th id=\"T_86b42_level0_row6\" class=\"row_heading level0 row6\" >6</th>\n",
       "      <td id=\"T_86b42_row6_col0\" class=\"data row6 col0\" >woman</td>\n",
       "      <td id=\"T_86b42_row6_col1\" class=\"data row6 col1\" >1182</td>\n",
       "    </tr>\n",
       "    <tr>\n",
       "      <th id=\"T_86b42_level0_row7\" class=\"row_heading level0 row7\" >7</th>\n",
       "      <td id=\"T_86b42_row7_col0\" class=\"data row7 col0\" >bitch</td>\n",
       "      <td id=\"T_86b42_row7_col1\" class=\"data row7 col1\" >1146</td>\n",
       "    </tr>\n",
       "    <tr>\n",
       "      <th id=\"T_86b42_level0_row8\" class=\"row_heading level0 row8\" >8</th>\n",
       "      <td id=\"T_86b42_row8_col0\" class=\"data row8 col0\" >femal</td>\n",
       "      <td id=\"T_86b42_row8_col1\" class=\"data row8 col1\" >1108</td>\n",
       "    </tr>\n",
       "    <tr>\n",
       "      <th id=\"T_86b42_level0_row9\" class=\"row_heading level0 row9\" >9</th>\n",
       "      <td id=\"T_86b42_row9_col0\" class=\"data row9 col0\" >peopl</td>\n",
       "      <td id=\"T_86b42_row9_col1\" class=\"data row9 col1\" >988</td>\n",
       "    </tr>\n",
       "    <tr>\n",
       "      <th id=\"T_86b42_level0_row10\" class=\"row_heading level0 row10\" >10</th>\n",
       "      <td id=\"T_86b42_row10_col0\" class=\"data row10 col0\" >like</td>\n",
       "      <td id=\"T_86b42_row10_col1\" class=\"data row10 col1\" >978</td>\n",
       "    </tr>\n",
       "    <tr>\n",
       "      <th id=\"T_86b42_level0_row11\" class=\"row_heading level0 row11\" >11</th>\n",
       "      <td id=\"T_86b42_row11_col0\" class=\"data row11 col0\" >sexist</td>\n",
       "      <td id=\"T_86b42_row11_col1\" class=\"data row11 col1\" >953</td>\n",
       "    </tr>\n",
       "    <tr>\n",
       "      <th id=\"T_86b42_level0_row12\" class=\"row_heading level0 row12\" >12</th>\n",
       "      <td id=\"T_86b42_row12_col0\" class=\"data row12 col0\" >funni</td>\n",
       "      <td id=\"T_86b42_row12_col1\" class=\"data row12 col1\" >662</td>\n",
       "    </tr>\n",
       "    <tr>\n",
       "      <th id=\"T_86b42_level0_row13\" class=\"row_heading level0 row13\" >13</th>\n",
       "      <td id=\"T_86b42_row13_col0\" class=\"data row13 col0\" >mkr</td>\n",
       "      <td id=\"T_86b42_row13_col1\" class=\"data row13 col1\" >659</td>\n",
       "    </tr>\n",
       "    <tr>\n",
       "      <th id=\"T_86b42_level0_row14\" class=\"row_heading level0 row14\" >14</th>\n",
       "      <td id=\"T_86b42_row14_col0\" class=\"data row14 col0\" >men</td>\n",
       "      <td id=\"T_86b42_row14_col1\" class=\"data row14 col1\" >614</td>\n",
       "    </tr>\n",
       "    <tr>\n",
       "      <th id=\"T_86b42_level0_row15\" class=\"row_heading level0 row15\" >15</th>\n",
       "      <td id=\"T_86b42_row15_col0\" class=\"data row15 col0\" >say</td>\n",
       "      <td id=\"T_86b42_row15_col1\" class=\"data row15 col1\" >592</td>\n",
       "    </tr>\n",
       "    <tr>\n",
       "      <th id=\"T_86b42_level0_row16\" class=\"row_heading level0 row16\" >16</th>\n",
       "      <td id=\"T_86b42_row16_col0\" class=\"data row16 col0\" >think</td>\n",
       "      <td id=\"T_86b42_row16_col1\" class=\"data row16 col1\" >592</td>\n",
       "    </tr>\n",
       "    <tr>\n",
       "      <th id=\"T_86b42_level0_row17\" class=\"row_heading level0 row17\" >17</th>\n",
       "      <td id=\"T_86b42_row17_col0\" class=\"data row17 col0\" >get</td>\n",
       "      <td id=\"T_86b42_row17_col1\" class=\"data row17 col1\" >555</td>\n",
       "    </tr>\n",
       "    <tr>\n",
       "      <th id=\"T_86b42_level0_row18\" class=\"row_heading level0 row18\" >18</th>\n",
       "      <td id=\"T_86b42_row18_col0\" class=\"data row18 col0\" >fuck</td>\n",
       "      <td id=\"T_86b42_row18_col1\" class=\"data row18 col1\" >548</td>\n",
       "    </tr>\n",
       "    <tr>\n",
       "      <th id=\"T_86b42_level0_row19\" class=\"row_heading level0 row19\" >19</th>\n",
       "      <td id=\"T_86b42_row19_col0\" class=\"data row19 col0\" >use</td>\n",
       "      <td id=\"T_86b42_row19_col1\" class=\"data row19 col1\" >441</td>\n",
       "    </tr>\n",
       "  </tbody>\n",
       "</table>\n"
      ],
      "text/plain": [
       "<pandas.io.formats.style.Styler at 0x2ae021a55e0>"
      ]
     },
     "execution_count": 32,
     "metadata": {},
     "output_type": "execute_result"
    }
   ],
   "source": [
    "gender = Counter([item for sublist in gender_type['tweet_list'] for item in sublist])\n",
    "top20_gender = pd.DataFrame(gender.most_common(20))\n",
    "top20_gender.columns = ['Top Words','Count']\n",
    "top20_gender.style.background_gradient(cmap='Greens')"
   ]
  },
  {
   "cell_type": "code",
   "execution_count": 33,
   "id": "7c64cf44",
   "metadata": {},
   "outputs": [
    {
     "data": {
      "text/plain": [
       "Text(0.5, 1.0, 'Top 20 words in Gender Cyberbullying')"
      ]
     },
     "execution_count": 33,
     "metadata": {},
     "output_type": "execute_result"
    },
    {
     "data": {
      "image/png": "[encoded data removed]",
      "text/plain": [
       "<Figure size 1080x576 with 1 Axes>"
      ]
     },
     "metadata": {
      "needs_background": "light"
     },
     "output_type": "display_data"
    }
   ],
   "source": [
    "fig = plt.figure(figsize=(15,8))\n",
    "sns.barplot(data=top20_gender, y=\"Count\", x=\"Top Words\")\n",
    "plt.title(\"Top 20 words in Gender Cyberbullying\")"
   ]
  },
  {
   "cell_type": "markdown",
   "id": "13873cb3",
   "metadata": {},
   "source": [
    "### Region Based Cyberbullying"
   ]
  },
  {
   "cell_type": "code",
   "execution_count": 34,
   "id": "277c69ec",
   "metadata": {},
   "outputs": [
    {
     "data": {
      "text/html": [
       "<style type=\"text/css\">\n",
       "#T_8716c_row0_col1 {\n",
       "  background-color: #00441b;\n",
       "  color: #f1f1f1;\n",
       "}\n",
       "#T_8716c_row1_col1 {\n",
       "  background-color: #46ae60;\n",
       "  color: #f1f1f1;\n",
       "}\n",
       "#T_8716c_row2_col1 {\n",
       "  background-color: #87cd86;\n",
       "  color: #000000;\n",
       "}\n",
       "#T_8716c_row3_col1 {\n",
       "  background-color: #a3da9d;\n",
       "  color: #000000;\n",
       "}\n",
       "#T_8716c_row4_col1 {\n",
       "  background-color: #b2e0ac;\n",
       "  color: #000000;\n",
       "}\n",
       "#T_8716c_row5_col1 {\n",
       "  background-color: #d8f0d2;\n",
       "  color: #000000;\n",
       "}\n",
       "#T_8716c_row6_col1 {\n",
       "  background-color: #ddf2d8;\n",
       "  color: #000000;\n",
       "}\n",
       "#T_8716c_row7_col1 {\n",
       "  background-color: #def2d9;\n",
       "  color: #000000;\n",
       "}\n",
       "#T_8716c_row8_col1, #T_8716c_row9_col1 {\n",
       "  background-color: #e0f3db;\n",
       "  color: #000000;\n",
       "}\n",
       "#T_8716c_row10_col1 {\n",
       "  background-color: #e4f5df;\n",
       "  color: #000000;\n",
       "}\n",
       "#T_8716c_row11_col1 {\n",
       "  background-color: #e7f6e3;\n",
       "  color: #000000;\n",
       "}\n",
       "#T_8716c_row12_col1 {\n",
       "  background-color: #e8f6e4;\n",
       "  color: #000000;\n",
       "}\n",
       "#T_8716c_row13_col1 {\n",
       "  background-color: #f2faef;\n",
       "  color: #000000;\n",
       "}\n",
       "#T_8716c_row14_col1, #T_8716c_row15_col1 {\n",
       "  background-color: #f4fbf1;\n",
       "  color: #000000;\n",
       "}\n",
       "#T_8716c_row16_col1 {\n",
       "  background-color: #f4fbf2;\n",
       "  color: #000000;\n",
       "}\n",
       "#T_8716c_row17_col1, #T_8716c_row18_col1 {\n",
       "  background-color: #f6fcf4;\n",
       "  color: #000000;\n",
       "}\n",
       "#T_8716c_row19_col1 {\n",
       "  background-color: #f7fcf5;\n",
       "  color: #000000;\n",
       "}\n",
       "</style>\n",
       "<table id=\"T_8716c\">\n",
       "  <thead>\n",
       "    <tr>\n",
       "      <th class=\"blank level0\" >&nbsp;</th>\n",
       "      <th id=\"T_8716c_level0_col0\" class=\"col_heading level0 col0\" >Top Words</th>\n",
       "      <th id=\"T_8716c_level0_col1\" class=\"col_heading level0 col1\" >Count</th>\n",
       "    </tr>\n",
       "  </thead>\n",
       "  <tbody>\n",
       "    <tr>\n",
       "      <th id=\"T_8716c_level0_row0\" class=\"row_heading level0 row0\" >0</th>\n",
       "      <td id=\"T_8716c_row0_col0\" class=\"data row0 col0\" >muslim</td>\n",
       "      <td id=\"T_8716c_row0_col1\" class=\"data row0 col1\" >4618</td>\n",
       "    </tr>\n",
       "    <tr>\n",
       "      <th id=\"T_8716c_level0_row1\" class=\"row_heading level0 row1\" >1</th>\n",
       "      <td id=\"T_8716c_row1_col0\" class=\"data row1 col0\" >idiot</td>\n",
       "      <td id=\"T_8716c_row1_col1\" class=\"data row1 col1\" >3075</td>\n",
       "    </tr>\n",
       "    <tr>\n",
       "      <th id=\"T_8716c_level0_row2\" class=\"row_heading level0 row2\" >2</th>\n",
       "      <td id=\"T_8716c_row2_col0\" class=\"data row2 col0\" >islam</td>\n",
       "      <td id=\"T_8716c_row2_col1\" class=\"data row2 col1\" >2440</td>\n",
       "    </tr>\n",
       "    <tr>\n",
       "      <th id=\"T_8716c_level0_row3\" class=\"row_heading level0 row3\" >3</th>\n",
       "      <td id=\"T_8716c_row3_col0\" class=\"data row3 col0\" >christian</td>\n",
       "      <td id=\"T_8716c_row3_col1\" class=\"data row3 col1\" >2132</td>\n",
       "    </tr>\n",
       "    <tr>\n",
       "      <th id=\"T_8716c_level0_row4\" class=\"row_heading level0 row4\" >4</th>\n",
       "      <td id=\"T_8716c_row4_col0\" class=\"data row4 col0\" >u</td>\n",
       "      <td id=\"T_8716c_row4_col1\" class=\"data row4 col1\" >1922</td>\n",
       "    </tr>\n",
       "    <tr>\n",
       "      <th id=\"T_8716c_level0_row5\" class=\"row_heading level0 row5\" >5</th>\n",
       "      <td id=\"T_8716c_row5_col0\" class=\"data row5 col0\" >terrorist</td>\n",
       "      <td id=\"T_8716c_row5_col1\" class=\"data row5 col1\" >1378</td>\n",
       "    </tr>\n",
       "    <tr>\n",
       "      <th id=\"T_8716c_level0_row6\" class=\"row_heading level0 row6\" >6</th>\n",
       "      <td id=\"T_8716c_row6_col0\" class=\"data row6 col0\" >right</td>\n",
       "      <td id=\"T_8716c_row6_col1\" class=\"data row6 col1\" >1289</td>\n",
       "    </tr>\n",
       "    <tr>\n",
       "      <th id=\"T_8716c_level0_row7\" class=\"row_heading level0 row7\" >7</th>\n",
       "      <td id=\"T_8716c_row7_col0\" class=\"data row7 col0\" >like</td>\n",
       "      <td id=\"T_8716c_row7_col1\" class=\"data row7 col1\" >1276</td>\n",
       "    </tr>\n",
       "    <tr>\n",
       "      <th id=\"T_8716c_level0_row8\" class=\"row_heading level0 row8\" >8</th>\n",
       "      <td id=\"T_8716c_row8_col0\" class=\"data row8 col0\" >support</td>\n",
       "      <td id=\"T_8716c_row8_col1\" class=\"data row8 col1\" >1251</td>\n",
       "    </tr>\n",
       "    <tr>\n",
       "      <th id=\"T_8716c_level0_row9\" class=\"row_heading level0 row9\" >9</th>\n",
       "      <td id=\"T_8716c_row9_col0\" class=\"data row9 col0\" >woman</td>\n",
       "      <td id=\"T_8716c_row9_col1\" class=\"data row9 col1\" >1247</td>\n",
       "    </tr>\n",
       "    <tr>\n",
       "      <th id=\"T_8716c_level0_row10\" class=\"row_heading level0 row10\" >10</th>\n",
       "      <td id=\"T_8716c_row10_col0\" class=\"data row10 col0\" >terror</td>\n",
       "      <td id=\"T_8716c_row10_col1\" class=\"data row10 col1\" >1182</td>\n",
       "    </tr>\n",
       "    <tr>\n",
       "      <th id=\"T_8716c_level0_row11\" class=\"row_heading level0 row11\" >11</th>\n",
       "      <td id=\"T_8716c_row11_col0\" class=\"data row11 col0\" >radic</td>\n",
       "      <td id=\"T_8716c_row11_col1\" class=\"data row11 col1\" >1110</td>\n",
       "    </tr>\n",
       "    <tr>\n",
       "      <th id=\"T_8716c_level0_row12\" class=\"row_heading level0 row12\" >12</th>\n",
       "      <td id=\"T_8716c_row12_col0\" class=\"data row12 col0\" >peopl</td>\n",
       "      <td id=\"T_8716c_row12_col1\" class=\"data row12 col1\" >1076</td>\n",
       "    </tr>\n",
       "    <tr>\n",
       "      <th id=\"T_8716c_level0_row13\" class=\"row_heading level0 row13\" >13</th>\n",
       "      <td id=\"T_8716c_row13_col0\" class=\"data row13 col0\" >say</td>\n",
       "      <td id=\"T_8716c_row13_col1\" class=\"data row13 col1\" >812</td>\n",
       "    </tr>\n",
       "    <tr>\n",
       "      <th id=\"T_8716c_level0_row14\" class=\"row_heading level0 row14\" >14</th>\n",
       "      <td id=\"T_8716c_row14_col0\" class=\"data row14 col0\" >amp</td>\n",
       "      <td id=\"T_8716c_row14_col1\" class=\"data row14 col1\" >769</td>\n",
       "    </tr>\n",
       "    <tr>\n",
       "      <th id=\"T_8716c_level0_row15\" class=\"row_heading level0 row15\" >15</th>\n",
       "      <td id=\"T_8716c_row15_col0\" class=\"data row15 col0\" >know</td>\n",
       "      <td id=\"T_8716c_row15_col1\" class=\"data row15 col1\" >759</td>\n",
       "    </tr>\n",
       "    <tr>\n",
       "      <th id=\"T_8716c_level0_row16\" class=\"row_heading level0 row16\" >16</th>\n",
       "      <td id=\"T_8716c_row16_col0\" class=\"data row16 col0\" >human</td>\n",
       "      <td id=\"T_8716c_row16_col1\" class=\"data row16 col1\" >744</td>\n",
       "    </tr>\n",
       "    <tr>\n",
       "      <th id=\"T_8716c_level0_row17\" class=\"row_heading level0 row17\" >17</th>\n",
       "      <td id=\"T_8716c_row17_col0\" class=\"data row17 col0\" >kill</td>\n",
       "      <td id=\"T_8716c_row17_col1\" class=\"data row17 col1\" >708</td>\n",
       "    </tr>\n",
       "    <tr>\n",
       "      <th id=\"T_8716c_level0_row18\" class=\"row_heading level0 row18\" >18</th>\n",
       "      <td id=\"T_8716c_row18_col0\" class=\"data row18 col0\" >hindu</td>\n",
       "      <td id=\"T_8716c_row18_col1\" class=\"data row18 col1\" >688</td>\n",
       "    </tr>\n",
       "    <tr>\n",
       "      <th id=\"T_8716c_level0_row19\" class=\"row_heading level0 row19\" >19</th>\n",
       "      <td id=\"T_8716c_row19_col0\" class=\"data row19 col0\" >one</td>\n",
       "      <td id=\"T_8716c_row19_col1\" class=\"data row19 col1\" >666</td>\n",
       "    </tr>\n",
       "  </tbody>\n",
       "</table>\n"
      ],
      "text/plain": [
       "<pandas.io.formats.style.Styler at 0x2ae0b6ba970>"
      ]
     },
     "execution_count": 34,
     "metadata": {},
     "output_type": "execute_result"
    }
   ],
   "source": [
    "religion = Counter([item for sublist in religion_type['tweet_list'] for item in sublist])\n",
    "top20_religion = pd.DataFrame(religion.most_common(20))\n",
    "top20_religion.columns = ['Top Words','Count']\n",
    "top20_religion.style.background_gradient(cmap='Greens')"
   ]
  },
  {
   "cell_type": "code",
   "execution_count": 35,
   "id": "88836827",
   "metadata": {},
   "outputs": [
    {
     "data": {
      "text/plain": [
       "Text(0.5, 1.0, 'Top 20 words in Religion Cyberbullying')"
      ]
     },
     "execution_count": 35,
     "metadata": {},
     "output_type": "execute_result"
    },
    {
     "data": {
      "image/png": "[encoded data removed]",
      "text/plain": [
       "<Figure size 1080x576 with 1 Axes>"
      ]
     },
     "metadata": {
      "needs_background": "light"
     },
     "output_type": "display_data"
    }
   ],
   "source": [
    "fig = plt.figure(figsize=(15,8))\n",
    "sns.barplot(data=top20_religion, y=\"Count\", x=\"Top Words\")\n",
    "plt.title(\"Top 20 words in Religion Cyberbullying\")"
   ]
  },
  {
   "cell_type": "markdown",
   "id": "9c547f61",
   "metadata": {},
   "source": [
    "### Age based Cyberbullying"
   ]
  },
  {
   "cell_type": "code",
   "execution_count": 36,
   "id": "d9dd8494",
   "metadata": {},
   "outputs": [
    {
     "data": {
      "text/html": [
       "<style type=\"text/css\">\n",
       "#T_c179d_row0_col1 {\n",
       "  background-color: #00441b;\n",
       "  color: #f1f1f1;\n",
       "}\n",
       "#T_c179d_row1_col1 {\n",
       "  background-color: #005622;\n",
       "  color: #f1f1f1;\n",
       "}\n",
       "#T_c179d_row2_col1 {\n",
       "  background-color: #6bc072;\n",
       "  color: #000000;\n",
       "}\n",
       "#T_c179d_row3_col1 {\n",
       "  background-color: #78c679;\n",
       "  color: #000000;\n",
       "}\n",
       "#T_c179d_row4_col1 {\n",
       "  background-color: #d6efd0;\n",
       "  color: #000000;\n",
       "}\n",
       "#T_c179d_row5_col1, #T_c179d_row6_col1 {\n",
       "  background-color: #edf8ea;\n",
       "  color: #000000;\n",
       "}\n",
       "#T_c179d_row7_col1 {\n",
       "  background-color: #f0f9ec;\n",
       "  color: #000000;\n",
       "}\n",
       "#T_c179d_row8_col1, #T_c179d_row9_col1 {\n",
       "  background-color: #f1faee;\n",
       "  color: #000000;\n",
       "}\n",
       "#T_c179d_row10_col1 {\n",
       "  background-color: #f2faf0;\n",
       "  color: #000000;\n",
       "}\n",
       "#T_c179d_row11_col1 {\n",
       "  background-color: #f3faf0;\n",
       "  color: #000000;\n",
       "}\n",
       "#T_c179d_row12_col1, #T_c179d_row13_col1 {\n",
       "  background-color: #f5fbf2;\n",
       "  color: #000000;\n",
       "}\n",
       "#T_c179d_row14_col1 {\n",
       "  background-color: #f5fbf3;\n",
       "  color: #000000;\n",
       "}\n",
       "#T_c179d_row15_col1, #T_c179d_row16_col1, #T_c179d_row17_col1, #T_c179d_row18_col1 {\n",
       "  background-color: #f6fcf4;\n",
       "  color: #000000;\n",
       "}\n",
       "#T_c179d_row19_col1 {\n",
       "  background-color: #f7fcf5;\n",
       "  color: #000000;\n",
       "}\n",
       "</style>\n",
       "<table id=\"T_c179d\">\n",
       "  <thead>\n",
       "    <tr>\n",
       "      <th class=\"blank level0\" >&nbsp;</th>\n",
       "      <th id=\"T_c179d_level0_col0\" class=\"col_heading level0 col0\" >Top Words</th>\n",
       "      <th id=\"T_c179d_level0_col1\" class=\"col_heading level0 col1\" >Count</th>\n",
       "    </tr>\n",
       "  </thead>\n",
       "  <tbody>\n",
       "    <tr>\n",
       "      <th id=\"T_c179d_level0_row0\" class=\"row_heading level0 row0\" >0</th>\n",
       "      <td id=\"T_c179d_row0_col0\" class=\"data row0 col0\" >bulli</td>\n",
       "      <td id=\"T_c179d_row0_col1\" class=\"data row0 col1\" >8899</td>\n",
       "    </tr>\n",
       "    <tr>\n",
       "      <th id=\"T_c179d_level0_row1\" class=\"row_heading level0 row1\" >1</th>\n",
       "      <td id=\"T_c179d_row1_col0\" class=\"data row1 col0\" >school</td>\n",
       "      <td id=\"T_c179d_row1_col1\" class=\"data row1 col1\" >8426</td>\n",
       "    </tr>\n",
       "    <tr>\n",
       "      <th id=\"T_c179d_level0_row2\" class=\"row_heading level0 row2\" >2</th>\n",
       "      <td id=\"T_c179d_row2_col0\" class=\"data row2 col0\" >high</td>\n",
       "      <td id=\"T_c179d_row2_col1\" class=\"data row2 col1\" >4861</td>\n",
       "    </tr>\n",
       "    <tr>\n",
       "      <th id=\"T_c179d_level0_row3\" class=\"row_heading level0 row3\" >3</th>\n",
       "      <td id=\"T_c179d_row3_col0\" class=\"data row3 col0\" >girl</td>\n",
       "      <td id=\"T_c179d_row3_col1\" class=\"data row3 col1\" >4616</td>\n",
       "    </tr>\n",
       "    <tr>\n",
       "      <th id=\"T_c179d_level0_row4\" class=\"row_heading level0 row4\" >4</th>\n",
       "      <td id=\"T_c179d_row4_col0\" class=\"data row4 col0\" >like</td>\n",
       "      <td id=\"T_c179d_row4_col1\" class=\"data row4 col1\" >2076</td>\n",
       "    </tr>\n",
       "    <tr>\n",
       "      <th id=\"T_c179d_level0_row5\" class=\"row_heading level0 row5\" >5</th>\n",
       "      <td id=\"T_c179d_row5_col0\" class=\"data row5 col0\" >get</td>\n",
       "      <td id=\"T_c179d_row5_col1\" class=\"data row5 col1\" >1051</td>\n",
       "    </tr>\n",
       "    <tr>\n",
       "      <th id=\"T_c179d_level0_row6\" class=\"row_heading level0 row6\" >6</th>\n",
       "      <td id=\"T_c179d_row6_col0\" class=\"data row6 col0\" >one</td>\n",
       "      <td id=\"T_c179d_row6_col1\" class=\"data row6 col1\" >1044</td>\n",
       "    </tr>\n",
       "    <tr>\n",
       "      <th id=\"T_c179d_level0_row7\" class=\"row_heading level0 row7\" >7</th>\n",
       "      <td id=\"T_c179d_row7_col0\" class=\"data row7 col0\" >peopl</td>\n",
       "      <td id=\"T_c179d_row7_col1\" class=\"data row7 col1\" >934</td>\n",
       "    </tr>\n",
       "    <tr>\n",
       "      <th id=\"T_c179d_level0_row8\" class=\"row_heading level0 row8\" >8</th>\n",
       "      <td id=\"T_c179d_row8_col0\" class=\"data row8 col0\" >got</td>\n",
       "      <td id=\"T_c179d_row8_col1\" class=\"data row8 col1\" >842</td>\n",
       "    </tr>\n",
       "    <tr>\n",
       "      <th id=\"T_c179d_level0_row9\" class=\"row_heading level0 row9\" >9</th>\n",
       "      <td id=\"T_c179d_row9_col0\" class=\"data row9 col0\" >kid</td>\n",
       "      <td id=\"T_c179d_row9_col1\" class=\"data row9 col1\" >809</td>\n",
       "    </tr>\n",
       "    <tr>\n",
       "      <th id=\"T_c179d_level0_row10\" class=\"row_heading level0 row10\" >10</th>\n",
       "      <td id=\"T_c179d_row10_col0\" class=\"data row10 col0\" >would</td>\n",
       "      <td id=\"T_c179d_row10_col1\" class=\"data row10 col1\" >762</td>\n",
       "    </tr>\n",
       "    <tr>\n",
       "      <th id=\"T_c179d_level0_row11\" class=\"row_heading level0 row11\" >11</th>\n",
       "      <td id=\"T_c179d_row11_col0\" class=\"data row11 col0\" >middl</td>\n",
       "      <td id=\"T_c179d_row11_col1\" class=\"data row11 col1\" >714</td>\n",
       "    </tr>\n",
       "    <tr>\n",
       "      <th id=\"T_c179d_level0_row12\" class=\"row_heading level0 row12\" >12</th>\n",
       "      <td id=\"T_c179d_row12_col0\" class=\"data row12 col0\" >friend</td>\n",
       "      <td id=\"T_c179d_row12_col1\" class=\"data row12 col1\" >632</td>\n",
       "    </tr>\n",
       "    <tr>\n",
       "      <th id=\"T_c179d_level0_row13\" class=\"row_heading level0 row13\" >13</th>\n",
       "      <td id=\"T_c179d_row13_col0\" class=\"data row13 col0\" >im</td>\n",
       "      <td id=\"T_c179d_row13_col1\" class=\"data row13 col1\" >625</td>\n",
       "    </tr>\n",
       "    <tr>\n",
       "      <th id=\"T_c179d_level0_row14\" class=\"row_heading level0 row14\" >14</th>\n",
       "      <td id=\"T_c179d_row14_col0\" class=\"data row14 col0\" >year</td>\n",
       "      <td id=\"T_c179d_row14_col1\" class=\"data row14 col1\" >586</td>\n",
       "    </tr>\n",
       "    <tr>\n",
       "      <th id=\"T_c179d_level0_row15\" class=\"row_heading level0 row15\" >15</th>\n",
       "      <td id=\"T_c179d_row15_col0\" class=\"data row15 col0\" >go</td>\n",
       "      <td id=\"T_c179d_row15_col1\" class=\"data row15 col1\" >555</td>\n",
       "    </tr>\n",
       "    <tr>\n",
       "      <th id=\"T_c179d_level0_row16\" class=\"row_heading level0 row16\" >16</th>\n",
       "      <td id=\"T_c179d_row16_col0\" class=\"data row16 col0\" >look</td>\n",
       "      <td id=\"T_c179d_row16_col1\" class=\"data row16 col1\" >545</td>\n",
       "    </tr>\n",
       "    <tr>\n",
       "      <th id=\"T_c179d_level0_row17\" class=\"row_heading level0 row17\" >17</th>\n",
       "      <td id=\"T_c179d_row17_col0\" class=\"data row17 col0\" >amp</td>\n",
       "      <td id=\"T_c179d_row17_col1\" class=\"data row17 col1\" >527</td>\n",
       "    </tr>\n",
       "    <tr>\n",
       "      <th id=\"T_c179d_level0_row18\" class=\"row_heading level0 row18\" >18</th>\n",
       "      <td id=\"T_c179d_row18_col0\" class=\"data row18 col0\" >know</td>\n",
       "      <td id=\"T_c179d_row18_col1\" class=\"data row18 col1\" >511</td>\n",
       "    </tr>\n",
       "    <tr>\n",
       "      <th id=\"T_c179d_level0_row19\" class=\"row_heading level0 row19\" >19</th>\n",
       "      <td id=\"T_c179d_row19_col0\" class=\"data row19 col0\" >u</td>\n",
       "      <td id=\"T_c179d_row19_col1\" class=\"data row19 col1\" >477</td>\n",
       "    </tr>\n",
       "  </tbody>\n",
       "</table>\n"
      ],
      "text/plain": [
       "<pandas.io.formats.style.Styler at 0x2ae0b6ba7f0>"
      ]
     },
     "execution_count": 36,
     "metadata": {},
     "output_type": "execute_result"
    }
   ],
   "source": [
    "age = Counter([item for sublist in age_type['tweet_list'] for item in sublist])\n",
    "top20_age = pd.DataFrame(age.most_common(20))\n",
    "top20_age.columns = ['Top Words','Count']\n",
    "top20_age.style.background_gradient(cmap='Greens')"
   ]
  },
  {
   "cell_type": "code",
   "execution_count": 37,
   "id": "87ec3bf4",
   "metadata": {},
   "outputs": [
    {
     "data": {
      "text/plain": [
       "Text(0.5, 1.0, 'Top 20 words in Age Cyberbullying')"
      ]
     },
     "execution_count": 37,
     "metadata": {},
     "output_type": "execute_result"
    },
    {
     "data": {
      "image/png": "[encoded data removed]",
      "text/plain": [
       "<Figure size 1080x576 with 1 Axes>"
      ]
     },
     "metadata": {
      "needs_background": "light"
     },
     "output_type": "display_data"
    }
   ],
   "source": [
    "fig = plt.figure(figsize=(15,8))\n",
    "sns.barplot(data=top20_age, y=\"Count\", x=\"Top Words\")\n",
    "plt.title(\"Top 20 words in Age Cyberbullying\")"
   ]
  },
  {
   "cell_type": "markdown",
   "id": "31318605",
   "metadata": {},
   "source": [
    "### Ethinicity based Cyberbullying"
   ]
  },
  {
   "cell_type": "code",
   "execution_count": 38,
   "id": "d1d6e28e",
   "metadata": {},
   "outputs": [
    {
     "data": {
      "text/html": [
       "<style type=\"text/css\">\n",
       "#T_ceee7_row0_col1 {\n",
       "  background-color: #00441b;\n",
       "  color: #f1f1f1;\n",
       "}\n",
       "#T_ceee7_row1_col1 {\n",
       "  background-color: #005f26;\n",
       "  color: #f1f1f1;\n",
       "}\n",
       "#T_ceee7_row2_col1 {\n",
       "  background-color: #0c7735;\n",
       "  color: #f1f1f1;\n",
       "}\n",
       "#T_ceee7_row3_col1 {\n",
       "  background-color: #b8e3b2;\n",
       "  color: #000000;\n",
       "}\n",
       "#T_ceee7_row4_col1 {\n",
       "  background-color: #bee5b8;\n",
       "  color: #000000;\n",
       "}\n",
       "#T_ceee7_row5_col1 {\n",
       "  background-color: #c1e6ba;\n",
       "  color: #000000;\n",
       "}\n",
       "#T_ceee7_row6_col1 {\n",
       "  background-color: #dbf1d6;\n",
       "  color: #000000;\n",
       "}\n",
       "#T_ceee7_row7_col1 {\n",
       "  background-color: #e3f4de;\n",
       "  color: #000000;\n",
       "}\n",
       "#T_ceee7_row8_col1 {\n",
       "  background-color: #e9f7e5;\n",
       "  color: #000000;\n",
       "}\n",
       "#T_ceee7_row9_col1 {\n",
       "  background-color: #eaf7e6;\n",
       "  color: #000000;\n",
       "}\n",
       "#T_ceee7_row10_col1 {\n",
       "  background-color: #ecf8e8;\n",
       "  color: #000000;\n",
       "}\n",
       "#T_ceee7_row11_col1 {\n",
       "  background-color: #edf8e9;\n",
       "  color: #000000;\n",
       "}\n",
       "#T_ceee7_row12_col1 {\n",
       "  background-color: #edf8ea;\n",
       "  color: #000000;\n",
       "}\n",
       "#T_ceee7_row13_col1 {\n",
       "  background-color: #eff9eb;\n",
       "  color: #000000;\n",
       "}\n",
       "#T_ceee7_row14_col1 {\n",
       "  background-color: #eff9ec;\n",
       "  color: #000000;\n",
       "}\n",
       "#T_ceee7_row15_col1 {\n",
       "  background-color: #f4fbf1;\n",
       "  color: #000000;\n",
       "}\n",
       "#T_ceee7_row16_col1, #T_ceee7_row17_col1 {\n",
       "  background-color: #f6fcf4;\n",
       "  color: #000000;\n",
       "}\n",
       "#T_ceee7_row18_col1, #T_ceee7_row19_col1 {\n",
       "  background-color: #f7fcf5;\n",
       "  color: #000000;\n",
       "}\n",
       "</style>\n",
       "<table id=\"T_ceee7\">\n",
       "  <thead>\n",
       "    <tr>\n",
       "      <th class=\"blank level0\" >&nbsp;</th>\n",
       "      <th id=\"T_ceee7_level0_col0\" class=\"col_heading level0 col0\" >Top Words</th>\n",
       "      <th id=\"T_ceee7_level0_col1\" class=\"col_heading level0 col1\" >Count</th>\n",
       "    </tr>\n",
       "  </thead>\n",
       "  <tbody>\n",
       "    <tr>\n",
       "      <th id=\"T_ceee7_level0_row0\" class=\"row_heading level0 row0\" >0</th>\n",
       "      <td id=\"T_ceee7_row0_col0\" class=\"data row0 col0\" >fuck</td>\n",
       "      <td id=\"T_ceee7_row0_col1\" class=\"data row0 col1\" >5892</td>\n",
       "    </tr>\n",
       "    <tr>\n",
       "      <th id=\"T_ceee7_level0_row1\" class=\"row_heading level0 row1\" >1</th>\n",
       "      <td id=\"T_ceee7_row1_col0\" class=\"data row1 col0\" >nigger</td>\n",
       "      <td id=\"T_ceee7_row1_col1\" class=\"data row1 col1\" >5456</td>\n",
       "    </tr>\n",
       "    <tr>\n",
       "      <th id=\"T_ceee7_level0_row2\" class=\"row_heading level0 row2\" >2</th>\n",
       "      <td id=\"T_ceee7_row2_col0\" class=\"data row2 col0\" >dumb</td>\n",
       "      <td id=\"T_ceee7_row2_col1\" class=\"data row2 col1\" >5003</td>\n",
       "    </tr>\n",
       "    <tr>\n",
       "      <th id=\"T_ceee7_level0_row3\" class=\"row_heading level0 row3\" >3</th>\n",
       "      <td id=\"T_ceee7_row3_col0\" class=\"data row3 col0\" >as</td>\n",
       "      <td id=\"T_ceee7_row3_col1\" class=\"data row3 col1\" >2241</td>\n",
       "    </tr>\n",
       "    <tr>\n",
       "      <th id=\"T_ceee7_level0_row4\" class=\"row_heading level0 row4\" >4</th>\n",
       "      <td id=\"T_ceee7_row4_col0\" class=\"data row4 col0\" >black</td>\n",
       "      <td id=\"T_ceee7_row4_col1\" class=\"data row4 col1\" >2134</td>\n",
       "    </tr>\n",
       "    <tr>\n",
       "      <th id=\"T_ceee7_level0_row5\" class=\"row_heading level0 row5\" >5</th>\n",
       "      <td id=\"T_ceee7_row5_col0\" class=\"data row5 col0\" >u</td>\n",
       "      <td id=\"T_ceee7_row5_col1\" class=\"data row5 col1\" >2107</td>\n",
       "    </tr>\n",
       "    <tr>\n",
       "      <th id=\"T_ceee7_level0_row6\" class=\"row_heading level0 row6\" >6</th>\n",
       "      <td id=\"T_ceee7_row6_col0\" class=\"data row6 col0\" >white</td>\n",
       "      <td id=\"T_ceee7_row6_col1\" class=\"data row6 col1\" >1557</td>\n",
       "    </tr>\n",
       "    <tr>\n",
       "      <th id=\"T_ceee7_level0_row7\" class=\"row_heading level0 row7\" >7</th>\n",
       "      <td id=\"T_ceee7_row7_col0\" class=\"data row7 col0\" >call</td>\n",
       "      <td id=\"T_ceee7_row7_col1\" class=\"data row7 col1\" >1381</td>\n",
       "    </tr>\n",
       "    <tr>\n",
       "      <th id=\"T_ceee7_level0_row8\" class=\"row_heading level0 row8\" >8</th>\n",
       "      <td id=\"T_ceee7_row8_col0\" class=\"data row8 col0\" >peopl</td>\n",
       "      <td id=\"T_ceee7_row8_col1\" class=\"data row8 col1\" >1182</td>\n",
       "    </tr>\n",
       "    <tr>\n",
       "      <th id=\"T_ceee7_level0_row9\" class=\"row_heading level0 row9\" >9</th>\n",
       "      <td id=\"T_ceee7_row9_col0\" class=\"data row9 col0\" >rt</td>\n",
       "      <td id=\"T_ceee7_row9_col1\" class=\"data row9 col1\" >1166</td>\n",
       "    </tr>\n",
       "    <tr>\n",
       "      <th id=\"T_ceee7_level0_row10\" class=\"row_heading level0 row10\" >10</th>\n",
       "      <td id=\"T_ceee7_row10_col0\" class=\"data row10 col0\" >obama</td>\n",
       "      <td id=\"T_ceee7_row10_col1\" class=\"data row10 col1\" >1112</td>\n",
       "    </tr>\n",
       "    <tr>\n",
       "      <th id=\"T_ceee7_level0_row11\" class=\"row_heading level0 row11\" >11</th>\n",
       "      <td id=\"T_ceee7_row11_col0\" class=\"data row11 col0\" >one</td>\n",
       "      <td id=\"T_ceee7_row11_col1\" class=\"data row11 col1\" >1058</td>\n",
       "    </tr>\n",
       "    <tr>\n",
       "      <th id=\"T_ceee7_level0_row12\" class=\"row_heading level0 row12\" >12</th>\n",
       "      <td id=\"T_ceee7_row12_col0\" class=\"data row12 col0\" >like</td>\n",
       "      <td id=\"T_ceee7_row12_col1\" class=\"data row12 col1\" >1035</td>\n",
       "    </tr>\n",
       "    <tr>\n",
       "      <th id=\"T_ceee7_level0_row13\" class=\"row_heading level0 row13\" >13</th>\n",
       "      <td id=\"T_ceee7_row13_col0\" class=\"data row13 col0\" >bitch</td>\n",
       "      <td id=\"T_ceee7_row13_col1\" class=\"data row13 col1\" >999</td>\n",
       "    </tr>\n",
       "    <tr>\n",
       "      <th id=\"T_ceee7_level0_row14\" class=\"row_heading level0 row14\" >14</th>\n",
       "      <td id=\"T_ceee7_row14_col0\" class=\"data row14 col0\" >ur</td>\n",
       "      <td id=\"T_ceee7_row14_col1\" class=\"data row14 col1\" >987</td>\n",
       "    </tr>\n",
       "    <tr>\n",
       "      <th id=\"T_ceee7_level0_row15\" class=\"row_heading level0 row15\" >15</th>\n",
       "      <td id=\"T_ceee7_row15_col0\" class=\"data row15 col0\" >say</td>\n",
       "      <td id=\"T_ceee7_row15_col1\" class=\"data row15 col1\" >817</td>\n",
       "    </tr>\n",
       "    <tr>\n",
       "      <th id=\"T_ceee7_level0_row16\" class=\"row_heading level0 row16\" >16</th>\n",
       "      <td id=\"T_ceee7_row16_col0\" class=\"data row16 col0\" >first</td>\n",
       "      <td id=\"T_ceee7_row16_col1\" class=\"data row16 col1\" >745</td>\n",
       "    </tr>\n",
       "    <tr>\n",
       "      <th id=\"T_ceee7_level0_row17\" class=\"row_heading level0 row17\" >17</th>\n",
       "      <td id=\"T_ceee7_row17_col0\" class=\"data row17 col0\" >get</td>\n",
       "      <td id=\"T_ceee7_row17_col1\" class=\"data row17 col1\" >740</td>\n",
       "    </tr>\n",
       "    <tr>\n",
       "      <th id=\"T_ceee7_level0_row18\" class=\"row_heading level0 row18\" >18</th>\n",
       "      <td id=\"T_ceee7_row18_col0\" class=\"data row18 col0\" >anyth</td>\n",
       "      <td id=\"T_ceee7_row18_col1\" class=\"data row18 col1\" >708</td>\n",
       "    </tr>\n",
       "    <tr>\n",
       "      <th id=\"T_ceee7_level0_row19\" class=\"row_heading level0 row19\" >19</th>\n",
       "      <td id=\"T_ceee7_row19_col0\" class=\"data row19 col0\" >racism</td>\n",
       "      <td id=\"T_ceee7_row19_col1\" class=\"data row19 col1\" >689</td>\n",
       "    </tr>\n",
       "  </tbody>\n",
       "</table>\n"
      ],
      "text/plain": [
       "<pandas.io.formats.style.Styler at 0x2ae0b879a90>"
      ]
     },
     "execution_count": 38,
     "metadata": {},
     "output_type": "execute_result"
    }
   ],
   "source": [
    "ethnicity = Counter([item for sublist in ethnicity_type['tweet_list'] for item in sublist])\n",
    "top20_ethnicity = pd.DataFrame(ethnicity.most_common(20))\n",
    "top20_ethnicity.columns = ['Top Words','Count']\n",
    "top20_ethnicity.style.background_gradient(cmap='Greens')"
   ]
  },
  {
   "cell_type": "code",
   "execution_count": 39,
   "id": "e8b7cf66",
   "metadata": {},
   "outputs": [
    {
     "data": {
      "text/plain": [
       "Text(0.5, 1.0, 'Top 20 words in Ethnicity Cyberbullying')"
      ]
     },
     "execution_count": 39,
     "metadata": {},
     "output_type": "execute_result"
    },
    {
     "data": {
      "image/png": "[encoded data removed]",
      "text/plain": [
       "<Figure size 1080x576 with 1 Axes>"
      ]
     },
     "metadata": {
      "needs_background": "light"
     },
     "output_type": "display_data"
    }
   ],
   "source": [
    "fig = plt.figure(figsize=(15,8))\n",
    "sns.barplot(data=top20_ethnicity, y=\"Count\", x=\"Top Words\")\n",
    "plt.title(\"Top 20 words in Ethnicity Cyberbullying\")"
   ]
  },
  {
   "cell_type": "markdown",
   "id": "c58b046b",
   "metadata": {},
   "source": [
    "### Other types of Cyberbullying"
   ]
  },
  {
   "cell_type": "code",
   "execution_count": 40,
   "id": "a0fe7c4e",
   "metadata": {},
   "outputs": [
    {
     "data": {
      "text/html": [
       "<style type=\"text/css\">\n",
       "#T_365b4_row0_col1 {\n",
       "  background-color: #00441b;\n",
       "  color: #f1f1f1;\n",
       "}\n",
       "#T_365b4_row1_col1 {\n",
       "  background-color: #1a843f;\n",
       "  color: #f1f1f1;\n",
       "}\n",
       "#T_365b4_row2_col1 {\n",
       "  background-color: #7fc97f;\n",
       "  color: #000000;\n",
       "}\n",
       "#T_365b4_row3_col1 {\n",
       "  background-color: #a9dca3;\n",
       "  color: #000000;\n",
       "}\n",
       "#T_365b4_row4_col1 {\n",
       "  background-color: #b6e2af;\n",
       "  color: #000000;\n",
       "}\n",
       "#T_365b4_row5_col1 {\n",
       "  background-color: #c8e9c1;\n",
       "  color: #000000;\n",
       "}\n",
       "#T_365b4_row6_col1 {\n",
       "  background-color: #e1f3dc;\n",
       "  color: #000000;\n",
       "}\n",
       "#T_365b4_row7_col1 {\n",
       "  background-color: #e6f5e1;\n",
       "  color: #000000;\n",
       "}\n",
       "#T_365b4_row8_col1, #T_365b4_row9_col1 {\n",
       "  background-color: #ebf7e7;\n",
       "  color: #000000;\n",
       "}\n",
       "#T_365b4_row10_col1 {\n",
       "  background-color: #ecf8e8;\n",
       "  color: #000000;\n",
       "}\n",
       "#T_365b4_row11_col1 {\n",
       "  background-color: #eef8ea;\n",
       "  color: #000000;\n",
       "}\n",
       "#T_365b4_row12_col1 {\n",
       "  background-color: #f0f9ec;\n",
       "  color: #000000;\n",
       "}\n",
       "#T_365b4_row13_col1 {\n",
       "  background-color: #f2faef;\n",
       "  color: #000000;\n",
       "}\n",
       "#T_365b4_row14_col1 {\n",
       "  background-color: #f2faf0;\n",
       "  color: #000000;\n",
       "}\n",
       "#T_365b4_row15_col1 {\n",
       "  background-color: #f3faf0;\n",
       "  color: #000000;\n",
       "}\n",
       "#T_365b4_row16_col1, #T_365b4_row17_col1, #T_365b4_row18_col1 {\n",
       "  background-color: #f6fcf4;\n",
       "  color: #000000;\n",
       "}\n",
       "#T_365b4_row19_col1 {\n",
       "  background-color: #f7fcf5;\n",
       "  color: #000000;\n",
       "}\n",
       "</style>\n",
       "<table id=\"T_365b4\">\n",
       "  <thead>\n",
       "    <tr>\n",
       "      <th class=\"blank level0\" >&nbsp;</th>\n",
       "      <th id=\"T_365b4_level0_col0\" class=\"col_heading level0 col0\" >Top Words</th>\n",
       "      <th id=\"T_365b4_level0_col1\" class=\"col_heading level0 col1\" >Count</th>\n",
       "    </tr>\n",
       "  </thead>\n",
       "  <tbody>\n",
       "    <tr>\n",
       "      <th id=\"T_365b4_level0_row0\" class=\"row_heading level0 row0\" >0</th>\n",
       "      <td id=\"T_365b4_row0_col0\" class=\"data row0 col0\" >bulli</td>\n",
       "      <td id=\"T_365b4_row0_col1\" class=\"data row0 col1\" >882</td>\n",
       "    </tr>\n",
       "    <tr>\n",
       "      <th id=\"T_365b4_level0_row1\" class=\"row_heading level0 row1\" >1</th>\n",
       "      <td id=\"T_365b4_row1_col0\" class=\"data row1 col0\" >rt</td>\n",
       "      <td id=\"T_365b4_row1_col1\" class=\"data row1 col1\" >727</td>\n",
       "    </tr>\n",
       "    <tr>\n",
       "      <th id=\"T_365b4_level0_row2\" class=\"row_heading level0 row2\" >2</th>\n",
       "      <td id=\"T_365b4_row2_col0\" class=\"data row2 col0\" >fuck</td>\n",
       "      <td id=\"T_365b4_row2_col1\" class=\"data row2 col1\" >509</td>\n",
       "    </tr>\n",
       "    <tr>\n",
       "      <th id=\"T_365b4_level0_row3\" class=\"row_heading level0 row3\" >3</th>\n",
       "      <td id=\"T_365b4_row3_col0\" class=\"data row3 col0\" >like</td>\n",
       "      <td id=\"T_365b4_row3_col1\" class=\"data row3 col1\" >424</td>\n",
       "    </tr>\n",
       "    <tr>\n",
       "      <th id=\"T_365b4_level0_row4\" class=\"row_heading level0 row4\" >4</th>\n",
       "      <td id=\"T_365b4_row4_col0\" class=\"data row4 col0\" >get</td>\n",
       "      <td id=\"T_365b4_row4_col1\" class=\"data row4 col1\" >393</td>\n",
       "    </tr>\n",
       "    <tr>\n",
       "      <th id=\"T_365b4_level0_row5\" class=\"row_heading level0 row5\" >5</th>\n",
       "      <td id=\"T_365b4_row5_col0\" class=\"data row5 col0\" >peopl</td>\n",
       "      <td id=\"T_365b4_row5_col1\" class=\"data row5 col1\" >353</td>\n",
       "    </tr>\n",
       "    <tr>\n",
       "      <th id=\"T_365b4_level0_row6\" class=\"row_heading level0 row6\" >6</th>\n",
       "      <td id=\"T_365b4_row6_col0\" class=\"data row6 col0\" >go</td>\n",
       "      <td id=\"T_365b4_row6_col1\" class=\"data row6 col1\" >277</td>\n",
       "    </tr>\n",
       "    <tr>\n",
       "      <th id=\"T_365b4_level0_row7\" class=\"row_heading level0 row7\" >7</th>\n",
       "      <td id=\"T_365b4_row7_col0\" class=\"data row7 col0\" >idiot</td>\n",
       "      <td id=\"T_365b4_row7_col1\" class=\"data row7 col1\" >261</td>\n",
       "    </tr>\n",
       "    <tr>\n",
       "      <th id=\"T_365b4_level0_row8\" class=\"row_heading level0 row8\" >8</th>\n",
       "      <td id=\"T_365b4_row8_col0\" class=\"data row8 col0\" >know</td>\n",
       "      <td id=\"T_365b4_row8_col1\" class=\"data row8 col1\" >241</td>\n",
       "    </tr>\n",
       "    <tr>\n",
       "      <th id=\"T_365b4_level0_row9\" class=\"row_heading level0 row9\" >9</th>\n",
       "      <td id=\"T_365b4_row9_col0\" class=\"data row9 col0\" >think</td>\n",
       "      <td id=\"T_365b4_row9_col1\" class=\"data row9 col1\" >237</td>\n",
       "    </tr>\n",
       "    <tr>\n",
       "      <th id=\"T_365b4_level0_row10\" class=\"row_heading level0 row10\" >10</th>\n",
       "      <td id=\"T_365b4_row10_col0\" class=\"data row10 col0\" >would</td>\n",
       "      <td id=\"T_365b4_row10_col1\" class=\"data row10 col1\" >235</td>\n",
       "    </tr>\n",
       "    <tr>\n",
       "      <th id=\"T_365b4_level0_row11\" class=\"row_heading level0 row11\" >11</th>\n",
       "      <td id=\"T_365b4_row11_col0\" class=\"data row11 col0\" >u</td>\n",
       "      <td id=\"T_365b4_row11_col1\" class=\"data row11 col1\" >223</td>\n",
       "    </tr>\n",
       "    <tr>\n",
       "      <th id=\"T_365b4_level0_row12\" class=\"row_heading level0 row12\" >12</th>\n",
       "      <td id=\"T_365b4_row12_col0\" class=\"data row12 col0\" >make</td>\n",
       "      <td id=\"T_365b4_row12_col1\" class=\"data row12 col1\" >215</td>\n",
       "    </tr>\n",
       "    <tr>\n",
       "      <th id=\"T_365b4_level0_row13\" class=\"row_heading level0 row13\" >13</th>\n",
       "      <td id=\"T_365b4_row13_col0\" class=\"data row13 col0\" >one</td>\n",
       "      <td id=\"T_365b4_row13_col1\" class=\"data row13 col1\" >205</td>\n",
       "    </tr>\n",
       "    <tr>\n",
       "      <th id=\"T_365b4_level0_row14\" class=\"row_heading level0 row14\" >14</th>\n",
       "      <td id=\"T_365b4_row14_col0\" class=\"data row14 col0\" >time</td>\n",
       "      <td id=\"T_365b4_row14_col1\" class=\"data row14 col1\" >202</td>\n",
       "    </tr>\n",
       "    <tr>\n",
       "      <th id=\"T_365b4_level0_row15\" class=\"row_heading level0 row15\" >15</th>\n",
       "      <td id=\"T_365b4_row15_col0\" class=\"data row15 col0\" >hate</td>\n",
       "      <td id=\"T_365b4_row15_col1\" class=\"data row15 col1\" >199</td>\n",
       "    </tr>\n",
       "    <tr>\n",
       "      <th id=\"T_365b4_level0_row16\" class=\"row_heading level0 row16\" >16</th>\n",
       "      <td id=\"T_365b4_row16_col0\" class=\"data row16 col0\" >want</td>\n",
       "      <td id=\"T_365b4_row16_col1\" class=\"data row16 col1\" >183</td>\n",
       "    </tr>\n",
       "    <tr>\n",
       "      <th id=\"T_365b4_level0_row17\" class=\"row_heading level0 row17\" >17</th>\n",
       "      <td id=\"T_365b4_row17_col0\" class=\"data row17 col0\" >thing</td>\n",
       "      <td id=\"T_365b4_row17_col1\" class=\"data row17 col1\" >182</td>\n",
       "    </tr>\n",
       "    <tr>\n",
       "      <th id=\"T_365b4_level0_row18\" class=\"row_heading level0 row18\" >18</th>\n",
       "      <td id=\"T_365b4_row18_col0\" class=\"data row18 col0\" >need</td>\n",
       "      <td id=\"T_365b4_row18_col1\" class=\"data row18 col1\" >182</td>\n",
       "    </tr>\n",
       "    <tr>\n",
       "      <th id=\"T_365b4_level0_row19\" class=\"row_heading level0 row19\" >19</th>\n",
       "      <td id=\"T_365b4_row19_col0\" class=\"data row19 col0\" >see</td>\n",
       "      <td id=\"T_365b4_row19_col1\" class=\"data row19 col1\" >178</td>\n",
       "    </tr>\n",
       "  </tbody>\n",
       "</table>\n"
      ],
      "text/plain": [
       "<pandas.io.formats.style.Styler at 0x2ae0b7aaaf0>"
      ]
     },
     "execution_count": 40,
     "metadata": {},
     "output_type": "execute_result"
    }
   ],
   "source": [
    "other_cyberbullying = Counter([item for sublist in other_cyberbullying_type['tweet_list'] for item in sublist])\n",
    "top20_other_cyberbullying = pd.DataFrame(other_cyberbullying.most_common(20))\n",
    "top20_other_cyberbullying.columns = ['Top Words','Count']\n",
    "top20_other_cyberbullying.style.background_gradient(cmap='Greens')"
   ]
  },
  {
   "cell_type": "code",
   "execution_count": 41,
   "id": "924b304d",
   "metadata": {},
   "outputs": [
    {
     "data": {
      "text/plain": [
       "Text(0.5, 1.0, 'Top 20 words in Other Cyberbullying')"
      ]
     },
     "execution_count": 41,
     "metadata": {},
     "output_type": "execute_result"
    },
    {
     "data": {
      "image/png": "[encoded data removed]",
      "text/plain": [
       "<Figure size 1080x576 with 1 Axes>"
      ]
     },
     "metadata": {
      "needs_background": "light"
     },
     "output_type": "display_data"
    }
   ],
   "source": [
    "fig = plt.figure(figsize=(15,8))\n",
    "sns.barplot(data=top20_other_cyberbullying, y=\"Count\", x=\"Top Words\")\n",
    "plt.title(\"Top 20 words in Other Cyberbullying\")"
   ]
  },
  {
   "cell_type": "markdown",
   "id": "733c3670",
   "metadata": {},
   "source": [
    "### Tweets without Cyberbullying"
   ]
  },
  {
   "cell_type": "code",
   "execution_count": 42,
   "id": "ac712dd2",
   "metadata": {},
   "outputs": [
    {
     "data": {
      "text/html": [
       "<style type=\"text/css\">\n",
       "#T_15983_row0_col1 {\n",
       "  background-color: #00441b;\n",
       "  color: #f1f1f1;\n",
       "}\n",
       "#T_15983_row1_col1 {\n",
       "  background-color: #45ad5f;\n",
       "  color: #f1f1f1;\n",
       "}\n",
       "#T_15983_row2_col1 {\n",
       "  background-color: #98d594;\n",
       "  color: #000000;\n",
       "}\n",
       "#T_15983_row3_col1, #T_15983_row4_col1 {\n",
       "  background-color: #ddf2d8;\n",
       "  color: #000000;\n",
       "}\n",
       "#T_15983_row5_col1 {\n",
       "  background-color: #e2f4dd;\n",
       "  color: #000000;\n",
       "}\n",
       "#T_15983_row6_col1 {\n",
       "  background-color: #e5f5e1;\n",
       "  color: #000000;\n",
       "}\n",
       "#T_15983_row7_col1, #T_15983_row8_col1 {\n",
       "  background-color: #eef8ea;\n",
       "  color: #000000;\n",
       "}\n",
       "#T_15983_row9_col1 {\n",
       "  background-color: #f0f9ec;\n",
       "  color: #000000;\n",
       "}\n",
       "#T_15983_row10_col1 {\n",
       "  background-color: #f0f9ed;\n",
       "  color: #000000;\n",
       "}\n",
       "#T_15983_row11_col1 {\n",
       "  background-color: #f1faee;\n",
       "  color: #000000;\n",
       "}\n",
       "#T_15983_row12_col1 {\n",
       "  background-color: #f2faf0;\n",
       "  color: #000000;\n",
       "}\n",
       "#T_15983_row13_col1, #T_15983_row14_col1 {\n",
       "  background-color: #f4fbf1;\n",
       "  color: #000000;\n",
       "}\n",
       "#T_15983_row15_col1 {\n",
       "  background-color: #f4fbf2;\n",
       "  color: #000000;\n",
       "}\n",
       "#T_15983_row16_col1 {\n",
       "  background-color: #f5fbf2;\n",
       "  color: #000000;\n",
       "}\n",
       "#T_15983_row17_col1 {\n",
       "  background-color: #f6fcf4;\n",
       "  color: #000000;\n",
       "}\n",
       "#T_15983_row18_col1, #T_15983_row19_col1 {\n",
       "  background-color: #f7fcf5;\n",
       "  color: #000000;\n",
       "}\n",
       "</style>\n",
       "<table id=\"T_15983\">\n",
       "  <thead>\n",
       "    <tr>\n",
       "      <th class=\"blank level0\" >&nbsp;</th>\n",
       "      <th id=\"T_15983_level0_col0\" class=\"col_heading level0 col0\" >Top Words</th>\n",
       "      <th id=\"T_15983_level0_col1\" class=\"col_heading level0 col1\" >Count</th>\n",
       "    </tr>\n",
       "  </thead>\n",
       "  <tbody>\n",
       "    <tr>\n",
       "      <th id=\"T_15983_level0_row0\" class=\"row_heading level0 row0\" >0</th>\n",
       "      <td id=\"T_15983_row0_col0\" class=\"data row0 col0\" >mkr</td>\n",
       "      <td id=\"T_15983_row0_col1\" class=\"data row0 col1\" >1674</td>\n",
       "    </tr>\n",
       "    <tr>\n",
       "      <th id=\"T_15983_level0_row1\" class=\"row_heading level0 row1\" >1</th>\n",
       "      <td id=\"T_15983_row1_col0\" class=\"data row1 col0\" >bulli</td>\n",
       "      <td id=\"T_15983_row1_col1\" class=\"data row1 col1\" >1102</td>\n",
       "    </tr>\n",
       "    <tr>\n",
       "      <th id=\"T_15983_level0_row2\" class=\"row_heading level0 row2\" >2</th>\n",
       "      <td id=\"T_15983_row2_col0\" class=\"data row2 col0\" >rt</td>\n",
       "      <td id=\"T_15983_row2_col1\" class=\"data row2 col1\" >785</td>\n",
       "    </tr>\n",
       "    <tr>\n",
       "      <th id=\"T_15983_level0_row3\" class=\"row_heading level0 row3\" >3</th>\n",
       "      <td id=\"T_15983_row3_col0\" class=\"data row3 col0\" >like</td>\n",
       "      <td id=\"T_15983_row3_col1\" class=\"data row3 col1\" >424</td>\n",
       "    </tr>\n",
       "    <tr>\n",
       "      <th id=\"T_15983_level0_row4\" class=\"row_heading level0 row4\" >4</th>\n",
       "      <td id=\"T_15983_row4_col0\" class=\"data row4 col0\" >get</td>\n",
       "      <td id=\"T_15983_row4_col1\" class=\"data row4 col1\" >423</td>\n",
       "    </tr>\n",
       "    <tr>\n",
       "      <th id=\"T_15983_level0_row5\" class=\"row_heading level0 row5\" >5</th>\n",
       "      <td id=\"T_15983_row5_col0\" class=\"data row5 col0\" >go</td>\n",
       "      <td id=\"T_15983_row5_col1\" class=\"data row5 col1\" >394</td>\n",
       "    </tr>\n",
       "    <tr>\n",
       "      <th id=\"T_15983_level0_row6\" class=\"row_heading level0 row6\" >6</th>\n",
       "      <td id=\"T_15983_row6_col0\" class=\"data row6 col0\" >school</td>\n",
       "      <td id=\"T_15983_row6_col1\" class=\"data row6 col1\" >374</td>\n",
       "    </tr>\n",
       "    <tr>\n",
       "      <th id=\"T_15983_level0_row7\" class=\"row_heading level0 row7\" >7</th>\n",
       "      <td id=\"T_15983_row7_col0\" class=\"data row7 col0\" >kat</td>\n",
       "      <td id=\"T_15983_row7_col1\" class=\"data row7 col1\" >286</td>\n",
       "    </tr>\n",
       "    <tr>\n",
       "      <th id=\"T_15983_level0_row8\" class=\"row_heading level0 row8\" >8</th>\n",
       "      <td id=\"T_15983_row8_col0\" class=\"data row8 col0\" >would</td>\n",
       "      <td id=\"T_15983_row8_col1\" class=\"data row8 col1\" >286</td>\n",
       "    </tr>\n",
       "    <tr>\n",
       "      <th id=\"T_15983_level0_row9\" class=\"row_heading level0 row9\" >9</th>\n",
       "      <td id=\"T_15983_row9_col0\" class=\"data row9 col0\" >peopl</td>\n",
       "      <td id=\"T_15983_row9_col1\" class=\"data row9 col1\" >272</td>\n",
       "    </tr>\n",
       "    <tr>\n",
       "      <th id=\"T_15983_level0_row10\" class=\"row_heading level0 row10\" >10</th>\n",
       "      <td id=\"T_15983_row10_col0\" class=\"data row10 col0\" >one</td>\n",
       "      <td id=\"T_15983_row10_col1\" class=\"data row10 col1\" >264</td>\n",
       "    </tr>\n",
       "    <tr>\n",
       "      <th id=\"T_15983_level0_row11\" class=\"row_heading level0 row11\" >11</th>\n",
       "      <td id=\"T_15983_row11_col0\" class=\"data row11 col0\" >amp</td>\n",
       "      <td id=\"T_15983_row11_col1\" class=\"data row11 col1\" >258</td>\n",
       "    </tr>\n",
       "    <tr>\n",
       "      <th id=\"T_15983_level0_row12\" class=\"row_heading level0 row12\" >12</th>\n",
       "      <td id=\"T_15983_row12_col0\" class=\"data row12 col0\" >think</td>\n",
       "      <td id=\"T_15983_row12_col1\" class=\"data row12 col1\" >242</td>\n",
       "    </tr>\n",
       "    <tr>\n",
       "      <th id=\"T_15983_level0_row13\" class=\"row_heading level0 row13\" >13</th>\n",
       "      <td id=\"T_15983_row13_col0\" class=\"data row13 col0\" >u</td>\n",
       "      <td id=\"T_15983_row13_col1\" class=\"data row13 col1\" >231</td>\n",
       "    </tr>\n",
       "    <tr>\n",
       "      <th id=\"T_15983_level0_row14\" class=\"row_heading level0 row14\" >14</th>\n",
       "      <td id=\"T_15983_row14_col0\" class=\"data row14 col0\" >know</td>\n",
       "      <td id=\"T_15983_row14_col1\" class=\"data row14 col1\" >229</td>\n",
       "    </tr>\n",
       "    <tr>\n",
       "      <th id=\"T_15983_level0_row15\" class=\"row_heading level0 row15\" >15</th>\n",
       "      <td id=\"T_15983_row15_col0\" class=\"data row15 col0\" >time</td>\n",
       "      <td id=\"T_15983_row15_col1\" class=\"data row15 col1\" >224</td>\n",
       "    </tr>\n",
       "    <tr>\n",
       "      <th id=\"T_15983_level0_row16\" class=\"row_heading level0 row16\" >16</th>\n",
       "      <td id=\"T_15983_row16_col0\" class=\"data row16 col0\" >make</td>\n",
       "      <td id=\"T_15983_row16_col1\" class=\"data row16 col1\" >219</td>\n",
       "    </tr>\n",
       "    <tr>\n",
       "      <th id=\"T_15983_level0_row17\" class=\"row_heading level0 row17\" >17</th>\n",
       "      <td id=\"T_15983_row17_col0\" class=\"data row17 col0\" >love</td>\n",
       "      <td id=\"T_15983_row17_col1\" class=\"data row17 col1\" >207</td>\n",
       "    </tr>\n",
       "    <tr>\n",
       "      <th id=\"T_15983_level0_row18\" class=\"row_heading level0 row18\" >18</th>\n",
       "      <td id=\"T_15983_row18_col0\" class=\"data row18 col0\" >andr</td>\n",
       "      <td id=\"T_15983_row18_col1\" class=\"data row18 col1\" >194</td>\n",
       "    </tr>\n",
       "    <tr>\n",
       "      <th id=\"T_15983_level0_row19\" class=\"row_heading level0 row19\" >19</th>\n",
       "      <td id=\"T_15983_row19_col0\" class=\"data row19 col0\" >need</td>\n",
       "      <td id=\"T_15983_row19_col1\" class=\"data row19 col1\" >191</td>\n",
       "    </tr>\n",
       "  </tbody>\n",
       "</table>\n"
      ],
      "text/plain": [
       "<pandas.io.formats.style.Styler at 0x2ae0bb5c340>"
      ]
     },
     "execution_count": 42,
     "metadata": {},
     "output_type": "execute_result"
    }
   ],
   "source": [
    "not_cyberbullying = Counter([item for sublist in not_cyberbullying_type['tweet_list'] for item in sublist])\n",
    "top20_not_cyberbullying = pd.DataFrame(not_cyberbullying.most_common(20))\n",
    "top20_not_cyberbullying.columns = ['Top Words','Count']\n",
    "top20_not_cyberbullying.style.background_gradient(cmap='Greens')"
   ]
  },
  {
   "cell_type": "code",
   "execution_count": 43,
   "id": "7d582738",
   "metadata": {},
   "outputs": [
    {
     "data": {
      "text/plain": [
       "Text(0.5, 1.0, 'Top 20 words in Not Cyberbullying')"
      ]
     },
     "execution_count": 43,
     "metadata": {},
     "output_type": "execute_result"
    },
    {
     "data": {
      "image/png": "[encoded data removed]",
      "text/plain": [
       "<Figure size 1080x576 with 1 Axes>"
      ]
     },
     "metadata": {
      "needs_background": "light"
     },
     "output_type": "display_data"
    }
   ],
   "source": [
    "fig = plt.figure(figsize=(15,8))\n",
    "sns.barplot(data=top20_not_cyberbullying, y=\"Count\", x=\"Top Words\")\n",
    "plt.title(\"Top 20 words in Not Cyberbullying\")"
   ]
  },
  {
   "cell_type": "code",
   "execution_count": 44,
   "id": "8ffec167",
   "metadata": {},
   "outputs": [
    {
     "data": {
      "text/html": [
       "<div>\n",
       "<style scoped>\n",
       "    .dataframe tbody tr th:only-of-type {\n",
       "        vertical-align: middle;\n",
       "    }\n",
       "\n",
       "    .dataframe tbody tr th {\n",
       "        vertical-align: top;\n",
       "    }\n",
       "\n",
       "    .dataframe thead th {\n",
       "        text-align: right;\n",
       "    }\n",
       "</style>\n",
       "<table border=\"1\" class=\"dataframe\">\n",
       "  <thead>\n",
       "    <tr style=\"text-align: right;\">\n",
       "      <th></th>\n",
       "      <th>text</th>\n",
       "      <th>sentiment</th>\n",
       "      <th>sentiment_encoded</th>\n",
       "      <th>cleaned_text</th>\n",
       "      <th>tweet_list</th>\n",
       "      <th>text_len</th>\n",
       "    </tr>\n",
       "  </thead>\n",
       "  <tbody>\n",
       "    <tr>\n",
       "      <th>0</th>\n",
       "      <td>In other words #katandandre, your food was cra...</td>\n",
       "      <td>not_cyberbullying</td>\n",
       "      <td>6</td>\n",
       "      <td>word katandandr food crapilici mkr</td>\n",
       "      <td>[word, katandandr, food, crapilici, mkr]</td>\n",
       "      <td>5</td>\n",
       "    </tr>\n",
       "    <tr>\n",
       "      <th>1</th>\n",
       "      <td>Why is #aussietv so white? #MKR #theblock #ImA...</td>\n",
       "      <td>not_cyberbullying</td>\n",
       "      <td>6</td>\n",
       "      <td>aussietv white mkr theblock imacelebrityau tod...</td>\n",
       "      <td>[aussietv, white, mkr, theblock, imacelebritya...</td>\n",
       "      <td>11</td>\n",
       "    </tr>\n",
       "    <tr>\n",
       "      <th>2</th>\n",
       "      <td>@XochitlSuckkks a classy whore? Or more red ve...</td>\n",
       "      <td>not_cyberbullying</td>\n",
       "      <td>6</td>\n",
       "      <td>classi whore red velvet cupcak</td>\n",
       "      <td>[classi, whore, red, velvet, cupcak]</td>\n",
       "      <td>5</td>\n",
       "    </tr>\n",
       "    <tr>\n",
       "      <th>3</th>\n",
       "      <td>@Jason_Gio meh. :P  thanks for the heads up, b...</td>\n",
       "      <td>not_cyberbullying</td>\n",
       "      <td>6</td>\n",
       "      <td>meh p thank head concern anoth angri dude twitter</td>\n",
       "      <td>[meh, p, thank, head, concern, anoth, angri, d...</td>\n",
       "      <td>9</td>\n",
       "    </tr>\n",
       "    <tr>\n",
       "      <th>4</th>\n",
       "      <td>@RudhoeEnglish This is an ISIS account pretend...</td>\n",
       "      <td>not_cyberbullying</td>\n",
       "      <td>6</td>\n",
       "      <td>isi account pretend kurdish account like islam...</td>\n",
       "      <td>[isi, account, pretend, kurdish, account, like...</td>\n",
       "      <td>8</td>\n",
       "    </tr>\n",
       "  </tbody>\n",
       "</table>\n",
       "</div>"
      ],
      "text/plain": [
       "                                                text          sentiment  \\\n",
       "0  In other words #katandandre, your food was cra...  not_cyberbullying   \n",
       "1  Why is #aussietv so white? #MKR #theblock #ImA...  not_cyberbullying   \n",
       "2  @XochitlSuckkks a classy whore? Or more red ve...  not_cyberbullying   \n",
       "3  @Jason_Gio meh. :P  thanks for the heads up, b...  not_cyberbullying   \n",
       "4  @RudhoeEnglish This is an ISIS account pretend...  not_cyberbullying   \n",
       "\n",
       "   sentiment_encoded                                       cleaned_text  \\\n",
       "0                  6                 word katandandr food crapilici mkr   \n",
       "1                  6  aussietv white mkr theblock imacelebrityau tod...   \n",
       "2                  6                     classi whore red velvet cupcak   \n",
       "3                  6  meh p thank head concern anoth angri dude twitter   \n",
       "4                  6  isi account pretend kurdish account like islam...   \n",
       "\n",
       "                                          tweet_list  text_len  \n",
       "0           [word, katandandr, food, crapilici, mkr]         5  \n",
       "1  [aussietv, white, mkr, theblock, imacelebritya...        11  \n",
       "2               [classi, whore, red, velvet, cupcak]         5  \n",
       "3  [meh, p, thank, head, concern, anoth, angri, d...         9  \n",
       "4  [isi, account, pretend, kurdish, account, like...         8  "
      ]
     },
     "execution_count": 44,
     "metadata": {},
     "output_type": "execute_result"
    }
   ],
   "source": [
    "data.head()"
   ]
  },
  {
   "cell_type": "code",
   "execution_count": 45,
   "id": "5d14ffae",
   "metadata": {},
   "outputs": [],
   "source": [
    "sentiments = [\"religion\", \"age\", \"ethnicity\", \"gender\", \"other_cyberbullying\",\"not_cyberbullying\"]\n"
   ]
  },
  {
   "cell_type": "markdown",
   "id": "b58df9ea",
   "metadata": {},
   "source": [
    "### Splitting Data into Train and Test Sets"
   ]
  },
  {
   "cell_type": "code",
   "execution_count": 46,
   "id": "6c53348e",
   "metadata": {},
   "outputs": [],
   "source": [
    "X,Y = data['cleaned_text'],data['sentiment_encoded']"
   ]
  },
  {
   "cell_type": "code",
   "execution_count": 47,
   "id": "d77cd1e0",
   "metadata": {},
   "outputs": [
    {
     "name": "stdout",
     "output_type": "stream",
     "text": [
      "(31255,) (31255,) (13395,) (13395,)\n"
     ]
    }
   ],
   "source": [
    "X_train, X_test, y_train, y_test = train_test_split(X, Y, test_size = 0.3, stratify =Y, random_state = 42)\n",
    "print(X_train.shape, y_train.shape, X_test.shape, y_test.shape)"
   ]
  },
  {
   "cell_type": "markdown",
   "id": "c9cb17f1",
   "metadata": {},
   "source": [
    "### tf-idf Vectorization"
   ]
  },
  {
   "cell_type": "code",
   "execution_count": 48,
   "id": "ff72e09e",
   "metadata": {},
   "outputs": [
    {
     "name": "stdout",
     "output_type": "stream",
     "text": [
      "(31255, 29111)\n",
      "(13395, 29111)\n"
     ]
    }
   ],
   "source": [
    "tf_idf = TfidfVectorizer()\n",
    "X_train_tf = tf_idf.fit_transform(X_train)\n",
    "X_test_tf = tf_idf.transform(X_test)\n",
    "print(X_train_tf.shape)\n",
    "print(X_test_tf.shape)"
   ]
  },
  {
   "cell_type": "markdown",
   "id": "8e17640c",
   "metadata": {},
   "source": [
    "### Trying Different ML Models"
   ]
  },
  {
   "cell_type": "markdown",
   "id": "aa87b4fc",
   "metadata": {},
   "source": [
    "### Logistic Regression"
   ]
  },
  {
   "cell_type": "code",
   "execution_count": 49,
   "id": "69a1401e",
   "metadata": {},
   "outputs": [],
   "source": [
    "lr=LogisticRegression()"
   ]
  },
  {
   "cell_type": "code",
   "execution_count": 50,
   "id": "10aaf89b",
   "metadata": {},
   "outputs": [],
   "source": [
    "lr_cv_score=cross_val_score(lr,X_train_tf,y_train,cv=5,scoring='f1_macro',n_jobs=-1)"
   ]
  },
  {
   "cell_type": "code",
   "execution_count": 51,
   "id": "e33799c0",
   "metadata": {},
   "outputs": [
    {
     "data": {
      "text/plain": [
       "0.8228272280708214"
      ]
     },
     "execution_count": 51,
     "metadata": {},
     "output_type": "execute_result"
    }
   ],
   "source": [
    "mean_lr_cv = np.mean(lr_cv_score)\n",
    "mean_lr_cv"
   ]
  },
  {
   "cell_type": "markdown",
   "id": "ddb76281",
   "metadata": {},
   "source": [
    "### Support Vector Classsifier"
   ]
  },
  {
   "cell_type": "code",
   "execution_count": 52,
   "id": "1a077a16",
   "metadata": {},
   "outputs": [],
   "source": [
    "lin_svc = LinearSVC()"
   ]
  },
  {
   "cell_type": "code",
   "execution_count": 53,
   "id": "5cad4a53",
   "metadata": {},
   "outputs": [
    {
     "data": {
      "text/plain": [
       "0.8220066371295554"
      ]
     },
     "execution_count": 53,
     "metadata": {},
     "output_type": "execute_result"
    }
   ],
   "source": [
    "lin_svc_cv_score = cross_val_score(lin_svc,X_train_tf,y_train,cv=5,scoring='f1_macro',n_jobs=-1)\n",
    "mean_lin_svc_cv = np.mean(lin_svc_cv_score)\n",
    "mean_lin_svc_cv"
   ]
  },
  {
   "cell_type": "markdown",
   "id": "e2b66167",
   "metadata": {},
   "source": [
    "### Naive Bayes Classifier"
   ]
  },
  {
   "cell_type": "code",
   "execution_count": 54,
   "id": "c5eea1dd",
   "metadata": {},
   "outputs": [],
   "source": [
    "multiNB = MultinomialNB()"
   ]
  },
  {
   "cell_type": "code",
   "execution_count": 55,
   "id": "d7bc24cc",
   "metadata": {},
   "outputs": [
    {
     "data": {
      "text/plain": [
       "0.6708019945279682"
      ]
     },
     "execution_count": 55,
     "metadata": {},
     "output_type": "execute_result"
    }
   ],
   "source": [
    "multiNB_cv_score = cross_val_score(multiNB,X_train_tf,y_train,cv=5,scoring='f1_macro',n_jobs=-1)\n",
    "mean_multiNB_cv = np.mean(multiNB_cv_score)\n",
    "mean_multiNB_cv"
   ]
  },
  {
   "cell_type": "markdown",
   "id": "c5b04b45",
   "metadata": {},
   "source": [
    "### Decision Tree Classifier"
   ]
  },
  {
   "cell_type": "code",
   "execution_count": 56,
   "id": "9732f3fd",
   "metadata": {},
   "outputs": [],
   "source": [
    "dtree = DecisionTreeClassifier()"
   ]
  },
  {
   "cell_type": "code",
   "execution_count": 57,
   "id": "53900005",
   "metadata": {},
   "outputs": [
    {
     "data": {
      "text/plain": [
       "0.8091481653456206"
      ]
     },
     "execution_count": 57,
     "metadata": {},
     "output_type": "execute_result"
    }
   ],
   "source": [
    "dtree_cv_score = cross_val_score(dtree,X_train_tf,y_train,cv=5,scoring='f1_macro',n_jobs=-1)\n",
    "mean_dtree_cv = np.mean(dtree_cv_score)\n",
    "mean_dtree_cv"
   ]
  },
  {
   "cell_type": "markdown",
   "id": "a721bd7d",
   "metadata": {},
   "source": [
    "### Random Forest Classifier"
   ]
  },
  {
   "cell_type": "code",
   "execution_count": 58,
   "id": "b42ab08e",
   "metadata": {},
   "outputs": [],
   "source": [
    "rand_forest = RandomForestClassifier()"
   ]
  },
  {
   "cell_type": "code",
   "execution_count": 59,
   "id": "d2b4aaef",
   "metadata": {},
   "outputs": [],
   "source": [
    "rand_forest_cv_score = cross_val_score(rand_forest,X_train_tf,y_train,cv=5,scoring='f1_macro',n_jobs=-1)"
   ]
  },
  {
   "cell_type": "code",
   "execution_count": 60,
   "id": "6aa30c96",
   "metadata": {},
   "outputs": [
    {
     "data": {
      "text/plain": [
       "0.8296975265017291"
      ]
     },
     "execution_count": 60,
     "metadata": {},
     "output_type": "execute_result"
    }
   ],
   "source": [
    "mean_rand_forest_cv = np.mean(rand_forest_cv_score)\n",
    "mean_rand_forest_cv"
   ]
  },
  {
   "cell_type": "markdown",
   "id": "1f933227",
   "metadata": {},
   "source": [
    "### Adaboost Classifier"
   ]
  },
  {
   "cell_type": "code",
   "execution_count": 61,
   "id": "aeda4f55",
   "metadata": {},
   "outputs": [],
   "source": [
    "adab=AdaBoostClassifier()"
   ]
  },
  {
   "cell_type": "code",
   "execution_count": 62,
   "id": "0a3bc5f9",
   "metadata": {},
   "outputs": [
    {
     "data": {
      "text/plain": [
       "0.760078727868178"
      ]
     },
     "execution_count": 62,
     "metadata": {},
     "output_type": "execute_result"
    }
   ],
   "source": [
    "adab_cv_score = cross_val_score(adab,X_train_tf,y_train,cv=5,scoring='f1_macro',n_jobs=-1)\n",
    "mean_adab_cv = np.mean(adab_cv_score)\n",
    "mean_adab_cv"
   ]
  },
  {
   "cell_type": "markdown",
   "id": "c592b926",
   "metadata": {},
   "source": [
    "#### By trying different models we can see logistic regression, svm and random forest classifier performed similarly, so among these we will go with svm model as it is more generalised and light.\n"
   ]
  },
  {
   "cell_type": "markdown",
   "id": "35a9b2ce",
   "metadata": {},
   "source": [
    "#### Fine Tuning SVC"
   ]
  },
  {
   "cell_type": "code",
   "execution_count": 63,
   "id": "96a6d3b3",
   "metadata": {},
   "outputs": [
    {
     "data": {
      "text/plain": [
       "GridSearchCV(cv=5, estimator=LinearSVC(), n_jobs=-1,\n",
       "             param_grid={'C': [0.0001, 0.001, 0.01, 0.1, 1, 10],\n",
       "                         'fit_intercept': [True, False],\n",
       "                         'loss': ['hinge', 'squared_hinge']},\n",
       "             return_train_score=True, scoring='f1_macro')"
      ]
     },
     "execution_count": 63,
     "metadata": {},
     "output_type": "execute_result"
    }
   ],
   "source": [
    "svc1 = LinearSVC()\n",
    "param_grid = {'C':[0.0001,0.001,0.01,0.1,1,10],\n",
    "'loss':['hinge','squared_hinge'],\n",
    "'fit_intercept':[True,False]}\n",
    "grid_search = GridSearchCV(svc1,param_grid,cv=5,scoring='f1_macro',n_jobs=-1,verbose=0,return_train_score=True)\n",
    "grid_search.fit(X_train_tf,y_train)"
   ]
  },
  {
   "cell_type": "code",
   "execution_count": 64,
   "id": "39dae06c",
   "metadata": {},
   "outputs": [
    {
     "data": {
      "text/plain": [
       "LinearSVC(C=1, loss='hinge')"
      ]
     },
     "execution_count": 64,
     "metadata": {},
     "output_type": "execute_result"
    }
   ],
   "source": [
    "grid_search.best_estimator_"
   ]
  },
  {
   "cell_type": "code",
   "execution_count": 65,
   "id": "ce68337b",
   "metadata": {},
   "outputs": [
    {
     "data": {
      "text/plain": [
       "0.8244012024546198"
      ]
     },
     "execution_count": 65,
     "metadata": {},
     "output_type": "execute_result"
    }
   ],
   "source": [
    "grid_search.best_score_"
   ]
  },
  {
   "cell_type": "markdown",
   "id": "837ab410",
   "metadata": {},
   "source": [
    "### Model Evaluation"
   ]
  },
  {
   "cell_type": "code",
   "execution_count": 66,
   "id": "2bd64c3a",
   "metadata": {},
   "outputs": [],
   "source": [
    "lin_svc.fit(X_train_tf,y_train)\n",
    "y_pred = lin_svc.predict(X_test_tf)"
   ]
  },
  {
   "cell_type": "code",
   "execution_count": 67,
   "id": "9a935948",
   "metadata": {},
   "outputs": [],
   "source": [
    "def print_confusion_matrix(confusion_matrix, class_names, figsize = (10,7), fontsize=14):\n",
    "    df_cm = pd.DataFrame(confusion_matrix, index=class_names, columns=class_names)\n",
    "    fig = plt.figure(figsize=figsize)\n",
    "    try:\n",
    "        heatmap = sns.heatmap(df_cm, annot=True, fmt=\"d\")\n",
    "    except ValueError:\n",
    "        raise ValueError(\"Confusion matrix values must be integers.\")\n",
    "    heatmap.yaxis.set_ticklabels(heatmap.yaxis.get_ticklabels(), rotation=0, ha='right', fontsize=fontsize)\n",
    "    heatmap.xaxis.set_ticklabels(heatmap.xaxis.get_ticklabels(), rotation=45, ha='right', fontsize=fontsize)\n",
    "    plt.ylabel('Truth')\n",
    "    plt.xlabel('Prediction')"
   ]
  },
  {
   "cell_type": "code",
   "execution_count": 68,
   "id": "e2b3d4ee",
   "metadata": {},
   "outputs": [
    {
     "data": {
      "image/png": "[encoded data removed]",
      "text/plain": [
       "<Figure size 720x504 with 2 Axes>"
      ]
     },
     "metadata": {
      "needs_background": "light"
     },
     "output_type": "display_data"
    }
   ],
   "source": [
    "cm = confusion_matrix(y_test,y_pred)\n",
    "print_confusion_matrix(cm,sentiments)"
   ]
  },
  {
   "cell_type": "code",
   "execution_count": 69,
   "id": "7349bf81",
   "metadata": {},
   "outputs": [
    {
     "name": "stdout",
     "output_type": "stream",
     "text": [
      "Classification Report:\n",
      "                      precision    recall  f1-score   support\n",
      "\n",
      "           religion       0.94      0.95      0.94      2386\n",
      "                age       0.93      0.97      0.95      2365\n",
      "          ethnicity       0.97      0.99      0.98      2331\n",
      "             gender       0.89      0.85      0.87      2286\n",
      "other_cyberbullying       0.58      0.59      0.59      1734\n",
      "  not_cyberbullying       0.63      0.60      0.61      2293\n",
      "\n",
      "           accuracy                           0.84     13395\n",
      "          macro avg       0.82      0.83      0.82     13395\n",
      "       weighted avg       0.84      0.84      0.84     13395\n",
      "\n"
     ]
    }
   ],
   "source": [
    "print('Classification Report:\\n',classification_report(y_test, y_pred, target_names=sentiments))"
   ]
  },
  {
   "cell_type": "markdown",
   "id": "4f3ed280",
   "metadata": {},
   "source": [
    "### Saving the model\n"
   ]
  },
  {
   "cell_type": "code",
   "execution_count": 70,
   "id": "b164046b",
   "metadata": {},
   "outputs": [],
   "source": [
    "pickle.dump(tf_idf, open('Cyberbullyingvectorizer.pkl', 'wb'))\n",
    "pickle.dump(lin_svc, open('Cyberbullyingmodel.pkl', 'wb'))"
   ]
  },
  {
   "cell_type": "markdown",
   "id": "cee7f581",
   "metadata": {},
   "source": [
    "## 7. Final Report:\n",
    "### Data Analysis and Treatment:\n",
    "    a. There are 47692 rows and 2 columns\n",
    "    b. There are no missing values\n",
    "    c. There is one target variable: 'Cyberbullying_type'\n",
    "    d. It is the case of multi-classification with target variable \"Cyberbullying_type\" having six labels as Age, Ethnicity, Gender, Religion, Other type of cyberbullying, Not cyberbullying.\n",
    "    e. The best prforming model is SVC (Support Vector Classifier) with accuracy score of 84%. "
   ]
  }
 ],
 "metadata": {
  "kernelspec": {
   "display_name": "Python 3 (ipykernel)",
   "language": "python",
   "name": "python3"
  },
  "language_info": {
   "codemirror_mode": {
    "name": "ipython",
    "version": 3
   },
   "file_extension": ".py",
   "mimetype": "text/x-python",
   "name": "python",
   "nbconvert_exporter": "python",
   "pygments_lexer": "ipython3",
   "version": "3.9.12"
  }
 },
 "nbformat": 4,
 "nbformat_minor": 5
}
